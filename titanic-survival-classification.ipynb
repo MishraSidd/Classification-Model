{
 "cells": [
  {
   "cell_type": "code",
   "execution_count": 1,
   "id": "6d93fe51",
   "metadata": {
    "_cell_guid": "b1076dfc-b9ad-4769-8c92-a6c4dae69d19",
    "_uuid": "8f2839f25d086af736a60e9eeb907d3b93b6e0e5",
    "execution": {
     "iopub.execute_input": "2024-09-10T14:09:33.243567Z",
     "iopub.status.busy": "2024-09-10T14:09:33.242996Z",
     "iopub.status.idle": "2024-09-10T14:09:33.735099Z",
     "shell.execute_reply": "2024-09-10T14:09:33.733354Z"
    },
    "papermill": {
     "duration": 0.512924,
     "end_time": "2024-09-10T14:09:33.738270",
     "exception": false,
     "start_time": "2024-09-10T14:09:33.225346",
     "status": "completed"
    },
    "tags": []
   },
   "outputs": [
    {
     "name": "stdout",
     "output_type": "stream",
     "text": [
      "/kaggle/input/titanic/train.csv\n",
      "/kaggle/input/titanic/test.csv\n",
      "/kaggle/input/titanic/gender_submission.csv\n"
     ]
    }
   ],
   "source": [
    "# This Python 3 environment comes with many helpful analytics libraries installed\n",
    "# It is defined by the kaggle/python Docker image: https://github.com/kaggle/docker-python\n",
    "# For example, here's several helpful packages to load\n",
    "\n",
    "import numpy as np # linear algebra\n",
    "import pandas as pd # data processing, CSV file I/O (e.g. pd.read_csv)\n",
    "\n",
    "# Input data files are available in the read-only \"../input/\" directory\n",
    "# For example, running this (by clicking run or pressing Shift+Enter) will list all files under the input directory\n",
    "\n",
    "import os\n",
    "for dirname, _, filenames in os.walk('/kaggle/input'):\n",
    "    for filename in filenames:\n",
    "        print(os.path.join(dirname, filename))\n",
    "\n",
    "# You can write up to 20GB to the current directory (/kaggle/working/) that gets preserved as output when you create a version using \"Save & Run All\" \n",
    "# You can also write temporary files to /kaggle/temp/, but they won't be saved outside of the current session"
   ]
  },
  {
   "cell_type": "markdown",
   "id": "cd226d10",
   "metadata": {
    "papermill": {
     "duration": 0.014463,
     "end_time": "2024-09-10T14:09:33.767643",
     "exception": false,
     "start_time": "2024-09-10T14:09:33.753180",
     "status": "completed"
    },
    "tags": []
   },
   "source": []
  },
  {
   "cell_type": "code",
   "execution_count": 2,
   "id": "0bc18918",
   "metadata": {
    "execution": {
     "iopub.execute_input": "2024-09-10T14:09:33.800005Z",
     "iopub.status.busy": "2024-09-10T14:09:33.799313Z",
     "iopub.status.idle": "2024-09-10T14:09:35.832199Z",
     "shell.execute_reply": "2024-09-10T14:09:35.830931Z"
    },
    "papermill": {
     "duration": 2.05303,
     "end_time": "2024-09-10T14:09:35.835267",
     "exception": false,
     "start_time": "2024-09-10T14:09:33.782237",
     "status": "completed"
    },
    "tags": []
   },
   "outputs": [],
   "source": [
    "import seaborn as sns\n",
    "import matplotlib.pyplot as plt"
   ]
  },
  {
   "cell_type": "code",
   "execution_count": 3,
   "id": "cb861a6a",
   "metadata": {
    "execution": {
     "iopub.execute_input": "2024-09-10T14:09:35.866943Z",
     "iopub.status.busy": "2024-09-10T14:09:35.866304Z",
     "iopub.status.idle": "2024-09-10T14:09:35.915960Z",
     "shell.execute_reply": "2024-09-10T14:09:35.914571Z"
    },
    "papermill": {
     "duration": 0.068623,
     "end_time": "2024-09-10T14:09:35.918765",
     "exception": false,
     "start_time": "2024-09-10T14:09:35.850142",
     "status": "completed"
    },
    "tags": []
   },
   "outputs": [
    {
     "data": {
      "text/html": [
       "<div>\n",
       "<style scoped>\n",
       "    .dataframe tbody tr th:only-of-type {\n",
       "        vertical-align: middle;\n",
       "    }\n",
       "\n",
       "    .dataframe tbody tr th {\n",
       "        vertical-align: top;\n",
       "    }\n",
       "\n",
       "    .dataframe thead th {\n",
       "        text-align: right;\n",
       "    }\n",
       "</style>\n",
       "<table border=\"1\" class=\"dataframe\">\n",
       "  <thead>\n",
       "    <tr style=\"text-align: right;\">\n",
       "      <th></th>\n",
       "      <th>PassengerId</th>\n",
       "      <th>Pclass</th>\n",
       "      <th>Name</th>\n",
       "      <th>Sex</th>\n",
       "      <th>Age</th>\n",
       "      <th>SibSp</th>\n",
       "      <th>Parch</th>\n",
       "      <th>Ticket</th>\n",
       "      <th>Fare</th>\n",
       "      <th>Cabin</th>\n",
       "      <th>Embarked</th>\n",
       "    </tr>\n",
       "  </thead>\n",
       "  <tbody>\n",
       "    <tr>\n",
       "      <th>0</th>\n",
       "      <td>892</td>\n",
       "      <td>3</td>\n",
       "      <td>Kelly, Mr. James</td>\n",
       "      <td>male</td>\n",
       "      <td>34.5</td>\n",
       "      <td>0</td>\n",
       "      <td>0</td>\n",
       "      <td>330911</td>\n",
       "      <td>7.8292</td>\n",
       "      <td>NaN</td>\n",
       "      <td>Q</td>\n",
       "    </tr>\n",
       "    <tr>\n",
       "      <th>1</th>\n",
       "      <td>893</td>\n",
       "      <td>3</td>\n",
       "      <td>Wilkes, Mrs. James (Ellen Needs)</td>\n",
       "      <td>female</td>\n",
       "      <td>47.0</td>\n",
       "      <td>1</td>\n",
       "      <td>0</td>\n",
       "      <td>363272</td>\n",
       "      <td>7.0000</td>\n",
       "      <td>NaN</td>\n",
       "      <td>S</td>\n",
       "    </tr>\n",
       "    <tr>\n",
       "      <th>2</th>\n",
       "      <td>894</td>\n",
       "      <td>2</td>\n",
       "      <td>Myles, Mr. Thomas Francis</td>\n",
       "      <td>male</td>\n",
       "      <td>62.0</td>\n",
       "      <td>0</td>\n",
       "      <td>0</td>\n",
       "      <td>240276</td>\n",
       "      <td>9.6875</td>\n",
       "      <td>NaN</td>\n",
       "      <td>Q</td>\n",
       "    </tr>\n",
       "    <tr>\n",
       "      <th>3</th>\n",
       "      <td>895</td>\n",
       "      <td>3</td>\n",
       "      <td>Wirz, Mr. Albert</td>\n",
       "      <td>male</td>\n",
       "      <td>27.0</td>\n",
       "      <td>0</td>\n",
       "      <td>0</td>\n",
       "      <td>315154</td>\n",
       "      <td>8.6625</td>\n",
       "      <td>NaN</td>\n",
       "      <td>S</td>\n",
       "    </tr>\n",
       "    <tr>\n",
       "      <th>4</th>\n",
       "      <td>896</td>\n",
       "      <td>3</td>\n",
       "      <td>Hirvonen, Mrs. Alexander (Helga E Lindqvist)</td>\n",
       "      <td>female</td>\n",
       "      <td>22.0</td>\n",
       "      <td>1</td>\n",
       "      <td>1</td>\n",
       "      <td>3101298</td>\n",
       "      <td>12.2875</td>\n",
       "      <td>NaN</td>\n",
       "      <td>S</td>\n",
       "    </tr>\n",
       "  </tbody>\n",
       "</table>\n",
       "</div>"
      ],
      "text/plain": [
       "   PassengerId  Pclass                                          Name     Sex  \\\n",
       "0          892       3                              Kelly, Mr. James    male   \n",
       "1          893       3              Wilkes, Mrs. James (Ellen Needs)  female   \n",
       "2          894       2                     Myles, Mr. Thomas Francis    male   \n",
       "3          895       3                              Wirz, Mr. Albert    male   \n",
       "4          896       3  Hirvonen, Mrs. Alexander (Helga E Lindqvist)  female   \n",
       "\n",
       "    Age  SibSp  Parch   Ticket     Fare Cabin Embarked  \n",
       "0  34.5      0      0   330911   7.8292   NaN        Q  \n",
       "1  47.0      1      0   363272   7.0000   NaN        S  \n",
       "2  62.0      0      0   240276   9.6875   NaN        Q  \n",
       "3  27.0      0      0   315154   8.6625   NaN        S  \n",
       "4  22.0      1      1  3101298  12.2875   NaN        S  "
      ]
     },
     "execution_count": 3,
     "metadata": {},
     "output_type": "execute_result"
    }
   ],
   "source": [
    "test_data = pd.read_csv(\"/kaggle/input/titanic/test.csv\")\n",
    "test_data.head()"
   ]
  },
  {
   "cell_type": "code",
   "execution_count": 4,
   "id": "65e875e1",
   "metadata": {
    "execution": {
     "iopub.execute_input": "2024-09-10T14:09:35.953252Z",
     "iopub.status.busy": "2024-09-10T14:09:35.952796Z",
     "iopub.status.idle": "2024-09-10T14:09:35.961450Z",
     "shell.execute_reply": "2024-09-10T14:09:35.960013Z"
    },
    "papermill": {
     "duration": 0.029876,
     "end_time": "2024-09-10T14:09:35.964269",
     "exception": false,
     "start_time": "2024-09-10T14:09:35.934393",
     "status": "completed"
    },
    "tags": []
   },
   "outputs": [],
   "source": [
    "test_data.columns = test_data.columns.str.lower()\n",
    "test_data['survived'] = 0"
   ]
  },
  {
   "cell_type": "code",
   "execution_count": 5,
   "id": "530cce30",
   "metadata": {
    "execution": {
     "iopub.execute_input": "2024-09-10T14:09:35.997465Z",
     "iopub.status.busy": "2024-09-10T14:09:35.996446Z",
     "iopub.status.idle": "2024-09-10T14:09:36.011917Z",
     "shell.execute_reply": "2024-09-10T14:09:36.010712Z"
    },
    "papermill": {
     "duration": 0.035051,
     "end_time": "2024-09-10T14:09:36.014890",
     "exception": false,
     "start_time": "2024-09-10T14:09:35.979839",
     "status": "completed"
    },
    "tags": []
   },
   "outputs": [],
   "source": [
    "train_data = pd.read_csv(\"/kaggle/input/titanic/train.csv\")"
   ]
  },
  {
   "cell_type": "code",
   "execution_count": 6,
   "id": "64cc90a5",
   "metadata": {
    "execution": {
     "iopub.execute_input": "2024-09-10T14:09:36.046939Z",
     "iopub.status.busy": "2024-09-10T14:09:36.046489Z",
     "iopub.status.idle": "2024-09-10T14:09:36.066202Z",
     "shell.execute_reply": "2024-09-10T14:09:36.064961Z"
    },
    "papermill": {
     "duration": 0.039173,
     "end_time": "2024-09-10T14:09:36.069141",
     "exception": false,
     "start_time": "2024-09-10T14:09:36.029968",
     "status": "completed"
    },
    "tags": []
   },
   "outputs": [
    {
     "data": {
      "text/html": [
       "<div>\n",
       "<style scoped>\n",
       "    .dataframe tbody tr th:only-of-type {\n",
       "        vertical-align: middle;\n",
       "    }\n",
       "\n",
       "    .dataframe tbody tr th {\n",
       "        vertical-align: top;\n",
       "    }\n",
       "\n",
       "    .dataframe thead th {\n",
       "        text-align: right;\n",
       "    }\n",
       "</style>\n",
       "<table border=\"1\" class=\"dataframe\">\n",
       "  <thead>\n",
       "    <tr style=\"text-align: right;\">\n",
       "      <th></th>\n",
       "      <th>passengerid</th>\n",
       "      <th>survived</th>\n",
       "      <th>pclass</th>\n",
       "      <th>name</th>\n",
       "      <th>sex</th>\n",
       "      <th>age</th>\n",
       "      <th>sibsp</th>\n",
       "      <th>parch</th>\n",
       "      <th>ticket</th>\n",
       "      <th>fare</th>\n",
       "      <th>cabin</th>\n",
       "      <th>embarked</th>\n",
       "    </tr>\n",
       "  </thead>\n",
       "  <tbody>\n",
       "    <tr>\n",
       "      <th>886</th>\n",
       "      <td>887</td>\n",
       "      <td>0</td>\n",
       "      <td>2</td>\n",
       "      <td>Montvila, Rev. Juozas</td>\n",
       "      <td>male</td>\n",
       "      <td>27.0</td>\n",
       "      <td>0</td>\n",
       "      <td>0</td>\n",
       "      <td>211536</td>\n",
       "      <td>13.00</td>\n",
       "      <td>NaN</td>\n",
       "      <td>S</td>\n",
       "    </tr>\n",
       "    <tr>\n",
       "      <th>887</th>\n",
       "      <td>888</td>\n",
       "      <td>1</td>\n",
       "      <td>1</td>\n",
       "      <td>Graham, Miss. Margaret Edith</td>\n",
       "      <td>female</td>\n",
       "      <td>19.0</td>\n",
       "      <td>0</td>\n",
       "      <td>0</td>\n",
       "      <td>112053</td>\n",
       "      <td>30.00</td>\n",
       "      <td>B42</td>\n",
       "      <td>S</td>\n",
       "    </tr>\n",
       "    <tr>\n",
       "      <th>888</th>\n",
       "      <td>889</td>\n",
       "      <td>0</td>\n",
       "      <td>3</td>\n",
       "      <td>Johnston, Miss. Catherine Helen \"Carrie\"</td>\n",
       "      <td>female</td>\n",
       "      <td>NaN</td>\n",
       "      <td>1</td>\n",
       "      <td>2</td>\n",
       "      <td>W./C. 6607</td>\n",
       "      <td>23.45</td>\n",
       "      <td>NaN</td>\n",
       "      <td>S</td>\n",
       "    </tr>\n",
       "    <tr>\n",
       "      <th>889</th>\n",
       "      <td>890</td>\n",
       "      <td>1</td>\n",
       "      <td>1</td>\n",
       "      <td>Behr, Mr. Karl Howell</td>\n",
       "      <td>male</td>\n",
       "      <td>26.0</td>\n",
       "      <td>0</td>\n",
       "      <td>0</td>\n",
       "      <td>111369</td>\n",
       "      <td>30.00</td>\n",
       "      <td>C148</td>\n",
       "      <td>C</td>\n",
       "    </tr>\n",
       "    <tr>\n",
       "      <th>890</th>\n",
       "      <td>891</td>\n",
       "      <td>0</td>\n",
       "      <td>3</td>\n",
       "      <td>Dooley, Mr. Patrick</td>\n",
       "      <td>male</td>\n",
       "      <td>32.0</td>\n",
       "      <td>0</td>\n",
       "      <td>0</td>\n",
       "      <td>370376</td>\n",
       "      <td>7.75</td>\n",
       "      <td>NaN</td>\n",
       "      <td>Q</td>\n",
       "    </tr>\n",
       "  </tbody>\n",
       "</table>\n",
       "</div>"
      ],
      "text/plain": [
       "     passengerid  survived  pclass                                      name  \\\n",
       "886          887         0       2                     Montvila, Rev. Juozas   \n",
       "887          888         1       1              Graham, Miss. Margaret Edith   \n",
       "888          889         0       3  Johnston, Miss. Catherine Helen \"Carrie\"   \n",
       "889          890         1       1                     Behr, Mr. Karl Howell   \n",
       "890          891         0       3                       Dooley, Mr. Patrick   \n",
       "\n",
       "        sex   age  sibsp  parch      ticket   fare cabin embarked  \n",
       "886    male  27.0      0      0      211536  13.00   NaN        S  \n",
       "887  female  19.0      0      0      112053  30.00   B42        S  \n",
       "888  female   NaN      1      2  W./C. 6607  23.45   NaN        S  \n",
       "889    male  26.0      0      0      111369  30.00  C148        C  \n",
       "890    male  32.0      0      0      370376   7.75   NaN        Q  "
      ]
     },
     "execution_count": 6,
     "metadata": {},
     "output_type": "execute_result"
    }
   ],
   "source": [
    "train_data.columns = train_data.columns.str.lower()\n",
    "train_data.tail()"
   ]
  },
  {
   "cell_type": "code",
   "execution_count": 7,
   "id": "6df31a10",
   "metadata": {
    "execution": {
     "iopub.execute_input": "2024-09-10T14:09:36.103279Z",
     "iopub.status.busy": "2024-09-10T14:09:36.102113Z",
     "iopub.status.idle": "2024-09-10T14:09:36.110227Z",
     "shell.execute_reply": "2024-09-10T14:09:36.108933Z"
    },
    "papermill": {
     "duration": 0.028182,
     "end_time": "2024-09-10T14:09:36.113132",
     "exception": false,
     "start_time": "2024-09-10T14:09:36.084950",
     "status": "completed"
    },
    "tags": []
   },
   "outputs": [
    {
     "data": {
      "text/plain": [
       "891"
      ]
     },
     "execution_count": 7,
     "metadata": {},
     "output_type": "execute_result"
    }
   ],
   "source": [
    "len(train_data)"
   ]
  },
  {
   "cell_type": "code",
   "execution_count": 8,
   "id": "2a9b410e",
   "metadata": {
    "execution": {
     "iopub.execute_input": "2024-09-10T14:09:36.146259Z",
     "iopub.status.busy": "2024-09-10T14:09:36.145744Z",
     "iopub.status.idle": "2024-09-10T14:09:36.158900Z",
     "shell.execute_reply": "2024-09-10T14:09:36.157396Z"
    },
    "papermill": {
     "duration": 0.033143,
     "end_time": "2024-09-10T14:09:36.161694",
     "exception": false,
     "start_time": "2024-09-10T14:09:36.128551",
     "status": "completed"
    },
    "tags": []
   },
   "outputs": [],
   "source": [
    "train_data = pd.concat([train_data,test_data], axis=0)"
   ]
  },
  {
   "cell_type": "code",
   "execution_count": 9,
   "id": "d5551231",
   "metadata": {
    "execution": {
     "iopub.execute_input": "2024-09-10T14:09:36.195470Z",
     "iopub.status.busy": "2024-09-10T14:09:36.194454Z",
     "iopub.status.idle": "2024-09-10T14:09:36.221835Z",
     "shell.execute_reply": "2024-09-10T14:09:36.220488Z"
    },
    "papermill": {
     "duration": 0.046806,
     "end_time": "2024-09-10T14:09:36.224338",
     "exception": false,
     "start_time": "2024-09-10T14:09:36.177532",
     "status": "completed"
    },
    "tags": []
   },
   "outputs": [
    {
     "data": {
      "text/html": [
       "<div>\n",
       "<style scoped>\n",
       "    .dataframe tbody tr th:only-of-type {\n",
       "        vertical-align: middle;\n",
       "    }\n",
       "\n",
       "    .dataframe tbody tr th {\n",
       "        vertical-align: top;\n",
       "    }\n",
       "\n",
       "    .dataframe thead th {\n",
       "        text-align: right;\n",
       "    }\n",
       "</style>\n",
       "<table border=\"1\" class=\"dataframe\">\n",
       "  <thead>\n",
       "    <tr style=\"text-align: right;\">\n",
       "      <th></th>\n",
       "      <th>passengerid</th>\n",
       "      <th>survived</th>\n",
       "      <th>pclass</th>\n",
       "      <th>name</th>\n",
       "      <th>sex</th>\n",
       "      <th>age</th>\n",
       "      <th>sibsp</th>\n",
       "      <th>parch</th>\n",
       "      <th>ticket</th>\n",
       "      <th>fare</th>\n",
       "      <th>cabin</th>\n",
       "      <th>embarked</th>\n",
       "    </tr>\n",
       "  </thead>\n",
       "  <tbody>\n",
       "    <tr>\n",
       "      <th>890</th>\n",
       "      <td>891</td>\n",
       "      <td>0</td>\n",
       "      <td>3</td>\n",
       "      <td>Dooley, Mr. Patrick</td>\n",
       "      <td>male</td>\n",
       "      <td>32.0</td>\n",
       "      <td>0</td>\n",
       "      <td>0</td>\n",
       "      <td>370376</td>\n",
       "      <td>7.7500</td>\n",
       "      <td>NaN</td>\n",
       "      <td>Q</td>\n",
       "    </tr>\n",
       "    <tr>\n",
       "      <th>0</th>\n",
       "      <td>892</td>\n",
       "      <td>0</td>\n",
       "      <td>3</td>\n",
       "      <td>Kelly, Mr. James</td>\n",
       "      <td>male</td>\n",
       "      <td>34.5</td>\n",
       "      <td>0</td>\n",
       "      <td>0</td>\n",
       "      <td>330911</td>\n",
       "      <td>7.8292</td>\n",
       "      <td>NaN</td>\n",
       "      <td>Q</td>\n",
       "    </tr>\n",
       "    <tr>\n",
       "      <th>1</th>\n",
       "      <td>893</td>\n",
       "      <td>0</td>\n",
       "      <td>3</td>\n",
       "      <td>Wilkes, Mrs. James (Ellen Needs)</td>\n",
       "      <td>female</td>\n",
       "      <td>47.0</td>\n",
       "      <td>1</td>\n",
       "      <td>0</td>\n",
       "      <td>363272</td>\n",
       "      <td>7.0000</td>\n",
       "      <td>NaN</td>\n",
       "      <td>S</td>\n",
       "    </tr>\n",
       "    <tr>\n",
       "      <th>2</th>\n",
       "      <td>894</td>\n",
       "      <td>0</td>\n",
       "      <td>2</td>\n",
       "      <td>Myles, Mr. Thomas Francis</td>\n",
       "      <td>male</td>\n",
       "      <td>62.0</td>\n",
       "      <td>0</td>\n",
       "      <td>0</td>\n",
       "      <td>240276</td>\n",
       "      <td>9.6875</td>\n",
       "      <td>NaN</td>\n",
       "      <td>Q</td>\n",
       "    </tr>\n",
       "    <tr>\n",
       "      <th>3</th>\n",
       "      <td>895</td>\n",
       "      <td>0</td>\n",
       "      <td>3</td>\n",
       "      <td>Wirz, Mr. Albert</td>\n",
       "      <td>male</td>\n",
       "      <td>27.0</td>\n",
       "      <td>0</td>\n",
       "      <td>0</td>\n",
       "      <td>315154</td>\n",
       "      <td>8.6625</td>\n",
       "      <td>NaN</td>\n",
       "      <td>S</td>\n",
       "    </tr>\n",
       "    <tr>\n",
       "      <th>...</th>\n",
       "      <td>...</td>\n",
       "      <td>...</td>\n",
       "      <td>...</td>\n",
       "      <td>...</td>\n",
       "      <td>...</td>\n",
       "      <td>...</td>\n",
       "      <td>...</td>\n",
       "      <td>...</td>\n",
       "      <td>...</td>\n",
       "      <td>...</td>\n",
       "      <td>...</td>\n",
       "      <td>...</td>\n",
       "    </tr>\n",
       "    <tr>\n",
       "      <th>412</th>\n",
       "      <td>1304</td>\n",
       "      <td>0</td>\n",
       "      <td>3</td>\n",
       "      <td>Henriksson, Miss. Jenny Lovisa</td>\n",
       "      <td>female</td>\n",
       "      <td>28.0</td>\n",
       "      <td>0</td>\n",
       "      <td>0</td>\n",
       "      <td>347086</td>\n",
       "      <td>7.7750</td>\n",
       "      <td>NaN</td>\n",
       "      <td>S</td>\n",
       "    </tr>\n",
       "    <tr>\n",
       "      <th>413</th>\n",
       "      <td>1305</td>\n",
       "      <td>0</td>\n",
       "      <td>3</td>\n",
       "      <td>Spector, Mr. Woolf</td>\n",
       "      <td>male</td>\n",
       "      <td>NaN</td>\n",
       "      <td>0</td>\n",
       "      <td>0</td>\n",
       "      <td>A.5. 3236</td>\n",
       "      <td>8.0500</td>\n",
       "      <td>NaN</td>\n",
       "      <td>S</td>\n",
       "    </tr>\n",
       "    <tr>\n",
       "      <th>414</th>\n",
       "      <td>1306</td>\n",
       "      <td>0</td>\n",
       "      <td>1</td>\n",
       "      <td>Oliva y Ocana, Dona. Fermina</td>\n",
       "      <td>female</td>\n",
       "      <td>39.0</td>\n",
       "      <td>0</td>\n",
       "      <td>0</td>\n",
       "      <td>PC 17758</td>\n",
       "      <td>108.9000</td>\n",
       "      <td>C105</td>\n",
       "      <td>C</td>\n",
       "    </tr>\n",
       "    <tr>\n",
       "      <th>415</th>\n",
       "      <td>1307</td>\n",
       "      <td>0</td>\n",
       "      <td>3</td>\n",
       "      <td>Saether, Mr. Simon Sivertsen</td>\n",
       "      <td>male</td>\n",
       "      <td>38.5</td>\n",
       "      <td>0</td>\n",
       "      <td>0</td>\n",
       "      <td>SOTON/O.Q. 3101262</td>\n",
       "      <td>7.2500</td>\n",
       "      <td>NaN</td>\n",
       "      <td>S</td>\n",
       "    </tr>\n",
       "    <tr>\n",
       "      <th>416</th>\n",
       "      <td>1308</td>\n",
       "      <td>0</td>\n",
       "      <td>3</td>\n",
       "      <td>Ware, Mr. Frederick</td>\n",
       "      <td>male</td>\n",
       "      <td>NaN</td>\n",
       "      <td>0</td>\n",
       "      <td>0</td>\n",
       "      <td>359309</td>\n",
       "      <td>8.0500</td>\n",
       "      <td>NaN</td>\n",
       "      <td>S</td>\n",
       "    </tr>\n",
       "  </tbody>\n",
       "</table>\n",
       "<p>418 rows × 12 columns</p>\n",
       "</div>"
      ],
      "text/plain": [
       "     passengerid  survived  pclass                              name     sex  \\\n",
       "890          891         0       3               Dooley, Mr. Patrick    male   \n",
       "0            892         0       3                  Kelly, Mr. James    male   \n",
       "1            893         0       3  Wilkes, Mrs. James (Ellen Needs)  female   \n",
       "2            894         0       2         Myles, Mr. Thomas Francis    male   \n",
       "3            895         0       3                  Wirz, Mr. Albert    male   \n",
       "..           ...       ...     ...                               ...     ...   \n",
       "412         1304         0       3    Henriksson, Miss. Jenny Lovisa  female   \n",
       "413         1305         0       3                Spector, Mr. Woolf    male   \n",
       "414         1306         0       1      Oliva y Ocana, Dona. Fermina  female   \n",
       "415         1307         0       3      Saether, Mr. Simon Sivertsen    male   \n",
       "416         1308         0       3               Ware, Mr. Frederick    male   \n",
       "\n",
       "      age  sibsp  parch              ticket      fare cabin embarked  \n",
       "890  32.0      0      0              370376    7.7500   NaN        Q  \n",
       "0    34.5      0      0              330911    7.8292   NaN        Q  \n",
       "1    47.0      1      0              363272    7.0000   NaN        S  \n",
       "2    62.0      0      0              240276    9.6875   NaN        Q  \n",
       "3    27.0      0      0              315154    8.6625   NaN        S  \n",
       "..    ...    ...    ...                 ...       ...   ...      ...  \n",
       "412  28.0      0      0              347086    7.7750   NaN        S  \n",
       "413   NaN      0      0           A.5. 3236    8.0500   NaN        S  \n",
       "414  39.0      0      0            PC 17758  108.9000  C105        C  \n",
       "415  38.5      0      0  SOTON/O.Q. 3101262    7.2500   NaN        S  \n",
       "416   NaN      0      0              359309    8.0500   NaN        S  \n",
       "\n",
       "[418 rows x 12 columns]"
      ]
     },
     "execution_count": 9,
     "metadata": {},
     "output_type": "execute_result"
    }
   ],
   "source": [
    "train_data[890:-1] #891 to end is the test dataset"
   ]
  },
  {
   "cell_type": "code",
   "execution_count": 10,
   "id": "37e79d30",
   "metadata": {
    "execution": {
     "iopub.execute_input": "2024-09-10T14:09:36.259159Z",
     "iopub.status.busy": "2024-09-10T14:09:36.258739Z",
     "iopub.status.idle": "2024-09-10T14:09:36.264943Z",
     "shell.execute_reply": "2024-09-10T14:09:36.263372Z"
    },
    "papermill": {
     "duration": 0.026607,
     "end_time": "2024-09-10T14:09:36.267847",
     "exception": false,
     "start_time": "2024-09-10T14:09:36.241240",
     "status": "completed"
    },
    "tags": []
   },
   "outputs": [],
   "source": [
    "train_data.reset_index(drop=True, inplace=True)"
   ]
  },
  {
   "cell_type": "code",
   "execution_count": 11,
   "id": "6c30c31f",
   "metadata": {
    "execution": {
     "iopub.execute_input": "2024-09-10T14:09:36.301835Z",
     "iopub.status.busy": "2024-09-10T14:09:36.301350Z",
     "iopub.status.idle": "2024-09-10T14:09:36.327706Z",
     "shell.execute_reply": "2024-09-10T14:09:36.326221Z"
    },
    "papermill": {
     "duration": 0.046788,
     "end_time": "2024-09-10T14:09:36.330840",
     "exception": false,
     "start_time": "2024-09-10T14:09:36.284052",
     "status": "completed"
    },
    "tags": []
   },
   "outputs": [
    {
     "name": "stdout",
     "output_type": "stream",
     "text": [
      "<class 'pandas.core.frame.DataFrame'>\n",
      "RangeIndex: 1309 entries, 0 to 1308\n",
      "Data columns (total 12 columns):\n",
      " #   Column       Non-Null Count  Dtype  \n",
      "---  ------       --------------  -----  \n",
      " 0   passengerid  1309 non-null   int64  \n",
      " 1   survived     1309 non-null   int64  \n",
      " 2   pclass       1309 non-null   int64  \n",
      " 3   name         1309 non-null   object \n",
      " 4   sex          1309 non-null   object \n",
      " 5   age          1046 non-null   float64\n",
      " 6   sibsp        1309 non-null   int64  \n",
      " 7   parch        1309 non-null   int64  \n",
      " 8   ticket       1309 non-null   object \n",
      " 9   fare         1308 non-null   float64\n",
      " 10  cabin        295 non-null    object \n",
      " 11  embarked     1307 non-null   object \n",
      "dtypes: float64(2), int64(5), object(5)\n",
      "memory usage: 122.8+ KB\n"
     ]
    }
   ],
   "source": [
    "train_data.info()"
   ]
  },
  {
   "cell_type": "code",
   "execution_count": 12,
   "id": "7d233e01",
   "metadata": {
    "execution": {
     "iopub.execute_input": "2024-09-10T14:09:36.365320Z",
     "iopub.status.busy": "2024-09-10T14:09:36.364875Z",
     "iopub.status.idle": "2024-09-10T14:09:36.418553Z",
     "shell.execute_reply": "2024-09-10T14:09:36.417344Z"
    },
    "papermill": {
     "duration": 0.074245,
     "end_time": "2024-09-10T14:09:36.421591",
     "exception": false,
     "start_time": "2024-09-10T14:09:36.347346",
     "status": "completed"
    },
    "tags": []
   },
   "outputs": [
    {
     "data": {
      "text/html": [
       "<div>\n",
       "<style scoped>\n",
       "    .dataframe tbody tr th:only-of-type {\n",
       "        vertical-align: middle;\n",
       "    }\n",
       "\n",
       "    .dataframe tbody tr th {\n",
       "        vertical-align: top;\n",
       "    }\n",
       "\n",
       "    .dataframe thead th {\n",
       "        text-align: right;\n",
       "    }\n",
       "</style>\n",
       "<table border=\"1\" class=\"dataframe\">\n",
       "  <thead>\n",
       "    <tr style=\"text-align: right;\">\n",
       "      <th></th>\n",
       "      <th>count</th>\n",
       "      <th>unique</th>\n",
       "      <th>top</th>\n",
       "      <th>freq</th>\n",
       "      <th>mean</th>\n",
       "      <th>std</th>\n",
       "      <th>min</th>\n",
       "      <th>25%</th>\n",
       "      <th>50%</th>\n",
       "      <th>75%</th>\n",
       "      <th>max</th>\n",
       "    </tr>\n",
       "  </thead>\n",
       "  <tbody>\n",
       "    <tr>\n",
       "      <th>passengerid</th>\n",
       "      <td>1309.0</td>\n",
       "      <td>NaN</td>\n",
       "      <td>NaN</td>\n",
       "      <td>NaN</td>\n",
       "      <td>655.0</td>\n",
       "      <td>378.020061</td>\n",
       "      <td>1.0</td>\n",
       "      <td>328.0</td>\n",
       "      <td>655.0</td>\n",
       "      <td>982.0</td>\n",
       "      <td>1309.0</td>\n",
       "    </tr>\n",
       "    <tr>\n",
       "      <th>survived</th>\n",
       "      <td>1309.0</td>\n",
       "      <td>NaN</td>\n",
       "      <td>NaN</td>\n",
       "      <td>NaN</td>\n",
       "      <td>0.261268</td>\n",
       "      <td>0.439494</td>\n",
       "      <td>0.0</td>\n",
       "      <td>0.0</td>\n",
       "      <td>0.0</td>\n",
       "      <td>1.0</td>\n",
       "      <td>1.0</td>\n",
       "    </tr>\n",
       "    <tr>\n",
       "      <th>pclass</th>\n",
       "      <td>1309.0</td>\n",
       "      <td>NaN</td>\n",
       "      <td>NaN</td>\n",
       "      <td>NaN</td>\n",
       "      <td>2.294882</td>\n",
       "      <td>0.837836</td>\n",
       "      <td>1.0</td>\n",
       "      <td>2.0</td>\n",
       "      <td>3.0</td>\n",
       "      <td>3.0</td>\n",
       "      <td>3.0</td>\n",
       "    </tr>\n",
       "    <tr>\n",
       "      <th>name</th>\n",
       "      <td>1309</td>\n",
       "      <td>1307</td>\n",
       "      <td>Connolly, Miss. Kate</td>\n",
       "      <td>2</td>\n",
       "      <td>NaN</td>\n",
       "      <td>NaN</td>\n",
       "      <td>NaN</td>\n",
       "      <td>NaN</td>\n",
       "      <td>NaN</td>\n",
       "      <td>NaN</td>\n",
       "      <td>NaN</td>\n",
       "    </tr>\n",
       "    <tr>\n",
       "      <th>sex</th>\n",
       "      <td>1309</td>\n",
       "      <td>2</td>\n",
       "      <td>male</td>\n",
       "      <td>843</td>\n",
       "      <td>NaN</td>\n",
       "      <td>NaN</td>\n",
       "      <td>NaN</td>\n",
       "      <td>NaN</td>\n",
       "      <td>NaN</td>\n",
       "      <td>NaN</td>\n",
       "      <td>NaN</td>\n",
       "    </tr>\n",
       "    <tr>\n",
       "      <th>age</th>\n",
       "      <td>1046.0</td>\n",
       "      <td>NaN</td>\n",
       "      <td>NaN</td>\n",
       "      <td>NaN</td>\n",
       "      <td>29.881138</td>\n",
       "      <td>14.413493</td>\n",
       "      <td>0.17</td>\n",
       "      <td>21.0</td>\n",
       "      <td>28.0</td>\n",
       "      <td>39.0</td>\n",
       "      <td>80.0</td>\n",
       "    </tr>\n",
       "    <tr>\n",
       "      <th>sibsp</th>\n",
       "      <td>1309.0</td>\n",
       "      <td>NaN</td>\n",
       "      <td>NaN</td>\n",
       "      <td>NaN</td>\n",
       "      <td>0.498854</td>\n",
       "      <td>1.041658</td>\n",
       "      <td>0.0</td>\n",
       "      <td>0.0</td>\n",
       "      <td>0.0</td>\n",
       "      <td>1.0</td>\n",
       "      <td>8.0</td>\n",
       "    </tr>\n",
       "    <tr>\n",
       "      <th>parch</th>\n",
       "      <td>1309.0</td>\n",
       "      <td>NaN</td>\n",
       "      <td>NaN</td>\n",
       "      <td>NaN</td>\n",
       "      <td>0.385027</td>\n",
       "      <td>0.86556</td>\n",
       "      <td>0.0</td>\n",
       "      <td>0.0</td>\n",
       "      <td>0.0</td>\n",
       "      <td>0.0</td>\n",
       "      <td>9.0</td>\n",
       "    </tr>\n",
       "    <tr>\n",
       "      <th>ticket</th>\n",
       "      <td>1309</td>\n",
       "      <td>929</td>\n",
       "      <td>CA. 2343</td>\n",
       "      <td>11</td>\n",
       "      <td>NaN</td>\n",
       "      <td>NaN</td>\n",
       "      <td>NaN</td>\n",
       "      <td>NaN</td>\n",
       "      <td>NaN</td>\n",
       "      <td>NaN</td>\n",
       "      <td>NaN</td>\n",
       "    </tr>\n",
       "    <tr>\n",
       "      <th>fare</th>\n",
       "      <td>1308.0</td>\n",
       "      <td>NaN</td>\n",
       "      <td>NaN</td>\n",
       "      <td>NaN</td>\n",
       "      <td>33.295479</td>\n",
       "      <td>51.758668</td>\n",
       "      <td>0.0</td>\n",
       "      <td>7.8958</td>\n",
       "      <td>14.4542</td>\n",
       "      <td>31.275</td>\n",
       "      <td>512.3292</td>\n",
       "    </tr>\n",
       "    <tr>\n",
       "      <th>cabin</th>\n",
       "      <td>295</td>\n",
       "      <td>186</td>\n",
       "      <td>C23 C25 C27</td>\n",
       "      <td>6</td>\n",
       "      <td>NaN</td>\n",
       "      <td>NaN</td>\n",
       "      <td>NaN</td>\n",
       "      <td>NaN</td>\n",
       "      <td>NaN</td>\n",
       "      <td>NaN</td>\n",
       "      <td>NaN</td>\n",
       "    </tr>\n",
       "    <tr>\n",
       "      <th>embarked</th>\n",
       "      <td>1307</td>\n",
       "      <td>3</td>\n",
       "      <td>S</td>\n",
       "      <td>914</td>\n",
       "      <td>NaN</td>\n",
       "      <td>NaN</td>\n",
       "      <td>NaN</td>\n",
       "      <td>NaN</td>\n",
       "      <td>NaN</td>\n",
       "      <td>NaN</td>\n",
       "      <td>NaN</td>\n",
       "    </tr>\n",
       "  </tbody>\n",
       "</table>\n",
       "</div>"
      ],
      "text/plain": [
       "              count unique                   top freq       mean         std  \\\n",
       "passengerid  1309.0    NaN                   NaN  NaN      655.0  378.020061   \n",
       "survived     1309.0    NaN                   NaN  NaN   0.261268    0.439494   \n",
       "pclass       1309.0    NaN                   NaN  NaN   2.294882    0.837836   \n",
       "name           1309   1307  Connolly, Miss. Kate    2        NaN         NaN   \n",
       "sex            1309      2                  male  843        NaN         NaN   \n",
       "age          1046.0    NaN                   NaN  NaN  29.881138   14.413493   \n",
       "sibsp        1309.0    NaN                   NaN  NaN   0.498854    1.041658   \n",
       "parch        1309.0    NaN                   NaN  NaN   0.385027     0.86556   \n",
       "ticket         1309    929              CA. 2343   11        NaN         NaN   \n",
       "fare         1308.0    NaN                   NaN  NaN  33.295479   51.758668   \n",
       "cabin           295    186           C23 C25 C27    6        NaN         NaN   \n",
       "embarked       1307      3                     S  914        NaN         NaN   \n",
       "\n",
       "              min     25%      50%     75%       max  \n",
       "passengerid   1.0   328.0    655.0   982.0    1309.0  \n",
       "survived      0.0     0.0      0.0     1.0       1.0  \n",
       "pclass        1.0     2.0      3.0     3.0       3.0  \n",
       "name          NaN     NaN      NaN     NaN       NaN  \n",
       "sex           NaN     NaN      NaN     NaN       NaN  \n",
       "age          0.17    21.0     28.0    39.0      80.0  \n",
       "sibsp         0.0     0.0      0.0     1.0       8.0  \n",
       "parch         0.0     0.0      0.0     0.0       9.0  \n",
       "ticket        NaN     NaN      NaN     NaN       NaN  \n",
       "fare          0.0  7.8958  14.4542  31.275  512.3292  \n",
       "cabin         NaN     NaN      NaN     NaN       NaN  \n",
       "embarked      NaN     NaN      NaN     NaN       NaN  "
      ]
     },
     "execution_count": 12,
     "metadata": {},
     "output_type": "execute_result"
    }
   ],
   "source": [
    "train_data.describe(include='all').T"
   ]
  },
  {
   "cell_type": "code",
   "execution_count": 13,
   "id": "d5c6821c",
   "metadata": {
    "execution": {
     "iopub.execute_input": "2024-09-10T14:09:36.456317Z",
     "iopub.status.busy": "2024-09-10T14:09:36.455902Z",
     "iopub.status.idle": "2024-09-10T14:09:36.464856Z",
     "shell.execute_reply": "2024-09-10T14:09:36.463319Z"
    },
    "papermill": {
     "duration": 0.030036,
     "end_time": "2024-09-10T14:09:36.468077",
     "exception": false,
     "start_time": "2024-09-10T14:09:36.438041",
     "status": "completed"
    },
    "tags": []
   },
   "outputs": [
    {
     "name": "stderr",
     "output_type": "stream",
     "text": [
      "/tmp/ipykernel_17/818126445.py:1: FutureWarning: A value is trying to be set on a copy of a DataFrame or Series through chained assignment using an inplace method.\n",
      "The behavior will change in pandas 3.0. This inplace method will never work because the intermediate object on which we are setting values always behaves as a copy.\n",
      "\n",
      "For example, when doing 'df[col].method(value, inplace=True)', try using 'df.method({col: value}, inplace=True)' or df[col] = df[col].method(value) instead, to perform the operation inplace on the original object.\n",
      "\n",
      "\n",
      "  train_data.age.fillna(train_data.age.mean(), inplace=True)\n",
      "/tmp/ipykernel_17/818126445.py:2: FutureWarning: A value is trying to be set on a copy of a DataFrame or Series through chained assignment using an inplace method.\n",
      "The behavior will change in pandas 3.0. This inplace method will never work because the intermediate object on which we are setting values always behaves as a copy.\n",
      "\n",
      "For example, when doing 'df[col].method(value, inplace=True)', try using 'df.method({col: value}, inplace=True)' or df[col] = df[col].method(value) instead, to perform the operation inplace on the original object.\n",
      "\n",
      "\n",
      "  train_data.cabin.fillna('UNKWN', inplace=True)\n"
     ]
    }
   ],
   "source": [
    "train_data.age.fillna(train_data.age.mean(), inplace=True)\n",
    "train_data.cabin.fillna('UNKWN', inplace=True)"
   ]
  },
  {
   "cell_type": "code",
   "execution_count": 14,
   "id": "1551ced4",
   "metadata": {
    "execution": {
     "iopub.execute_input": "2024-09-10T14:09:36.503966Z",
     "iopub.status.busy": "2024-09-10T14:09:36.503499Z",
     "iopub.status.idle": "2024-09-10T14:09:36.516115Z",
     "shell.execute_reply": "2024-09-10T14:09:36.514990Z"
    },
    "papermill": {
     "duration": 0.033706,
     "end_time": "2024-09-10T14:09:36.518929",
     "exception": false,
     "start_time": "2024-09-10T14:09:36.485223",
     "status": "completed"
    },
    "tags": []
   },
   "outputs": [
    {
     "data": {
      "text/plain": [
       "survived\n",
       "0    73.873186\n",
       "1    26.126814\n",
       "Name: count, dtype: float64"
      ]
     },
     "execution_count": 14,
     "metadata": {},
     "output_type": "execute_result"
    }
   ],
   "source": [
    "train_data['survived'].value_counts()/len(train_data)*100"
   ]
  },
  {
   "cell_type": "code",
   "execution_count": 15,
   "id": "e02e7264",
   "metadata": {
    "execution": {
     "iopub.execute_input": "2024-09-10T14:09:36.555326Z",
     "iopub.status.busy": "2024-09-10T14:09:36.554906Z",
     "iopub.status.idle": "2024-09-10T14:09:36.966436Z",
     "shell.execute_reply": "2024-09-10T14:09:36.965197Z"
    },
    "papermill": {
     "duration": 0.433677,
     "end_time": "2024-09-10T14:09:36.969402",
     "exception": false,
     "start_time": "2024-09-10T14:09:36.535725",
     "status": "completed"
    },
    "tags": []
   },
   "outputs": [
    {
     "data": {
      "text/plain": [
       "Text(0.5, 1.0, 'Age vs survival rate')"
      ]
     },
     "execution_count": 15,
     "metadata": {},
     "output_type": "execute_result"
    },
    {
     "data": {
      "image/png": "[encoded data removed]",
      "text/plain": [
       "<Figure size 640x480 with 1 Axes>"
      ]
     },
     "metadata": {},
     "output_type": "display_data"
    }
   ],
   "source": [
    "ax = sns.barplot(data=train_data,x='survived',y='age')\n",
    "ax.set_title('Age vs survival rate')\n",
    "# plt.show()"
   ]
  },
  {
   "cell_type": "code",
   "execution_count": 16,
   "id": "9e6be3bf",
   "metadata": {
    "execution": {
     "iopub.execute_input": "2024-09-10T14:09:37.007191Z",
     "iopub.status.busy": "2024-09-10T14:09:37.006750Z",
     "iopub.status.idle": "2024-09-10T14:09:37.015206Z",
     "shell.execute_reply": "2024-09-10T14:09:37.013965Z"
    },
    "papermill": {
     "duration": 0.030364,
     "end_time": "2024-09-10T14:09:37.017911",
     "exception": false,
     "start_time": "2024-09-10T14:09:36.987547",
     "status": "completed"
    },
    "tags": []
   },
   "outputs": [
    {
     "data": {
      "text/plain": [
       "Index(['passengerid', 'survived', 'pclass', 'name', 'sex', 'age', 'sibsp',\n",
       "       'parch', 'ticket', 'fare', 'cabin', 'embarked'],\n",
       "      dtype='object')"
      ]
     },
     "execution_count": 16,
     "metadata": {},
     "output_type": "execute_result"
    }
   ],
   "source": [
    "train_data.columns"
   ]
  },
  {
   "cell_type": "code",
   "execution_count": 17,
   "id": "1b7e5108",
   "metadata": {
    "execution": {
     "iopub.execute_input": "2024-09-10T14:09:37.055766Z",
     "iopub.status.busy": "2024-09-10T14:09:37.055208Z",
     "iopub.status.idle": "2024-09-10T14:09:37.063520Z",
     "shell.execute_reply": "2024-09-10T14:09:37.062002Z"
    },
    "papermill": {
     "duration": 0.030476,
     "end_time": "2024-09-10T14:09:37.066429",
     "exception": false,
     "start_time": "2024-09-10T14:09:37.035953",
     "status": "completed"
    },
    "tags": []
   },
   "outputs": [],
   "source": [
    "df = train_data[['passengerid', 'survived', 'pclass', 'age', 'sibsp',\n",
    "       'parch', 'fare']]"
   ]
  },
  {
   "cell_type": "code",
   "execution_count": 18,
   "id": "b56d78f8",
   "metadata": {
    "execution": {
     "iopub.execute_input": "2024-09-10T14:09:37.105185Z",
     "iopub.status.busy": "2024-09-10T14:09:37.104713Z",
     "iopub.status.idle": "2024-09-10T14:09:37.223147Z",
     "shell.execute_reply": "2024-09-10T14:09:37.221727Z"
    },
    "papermill": {
     "duration": 0.141999,
     "end_time": "2024-09-10T14:09:37.226088",
     "exception": false,
     "start_time": "2024-09-10T14:09:37.084089",
     "status": "completed"
    },
    "tags": []
   },
   "outputs": [
    {
     "data": {
      "text/html": [
       "<style type=\"text/css\">\n",
       "#T_8111e_row0_col0, #T_8111e_row1_col1, #T_8111e_row2_col2, #T_8111e_row3_col3, #T_8111e_row4_col4, #T_8111e_row5_col5, #T_8111e_row6_col6 {\n",
       "  background-color: #fde725;\n",
       "  color: #000000;\n",
       "}\n",
       "#T_8111e_row0_col1, #T_8111e_row1_col0, #T_8111e_row2_col3, #T_8111e_row2_col6, #T_8111e_row3_col4, #T_8111e_row3_col5, #T_8111e_row6_col2 {\n",
       "  background-color: #440154;\n",
       "  color: #f1f1f1;\n",
       "}\n",
       "#T_8111e_row0_col2 {\n",
       "  background-color: #31688e;\n",
       "  color: #f1f1f1;\n",
       "}\n",
       "#T_8111e_row0_col3 {\n",
       "  background-color: #365c8d;\n",
       "  color: #f1f1f1;\n",
       "}\n",
       "#T_8111e_row0_col4 {\n",
       "  background-color: #482979;\n",
       "  color: #f1f1f1;\n",
       "}\n",
       "#T_8111e_row0_col5, #T_8111e_row3_col2 {\n",
       "  background-color: #472c7a;\n",
       "  color: #f1f1f1;\n",
       "}\n",
       "#T_8111e_row0_col6 {\n",
       "  background-color: #2c728e;\n",
       "  color: #f1f1f1;\n",
       "}\n",
       "#T_8111e_row1_col2 {\n",
       "  background-color: #414487;\n",
       "  color: #f1f1f1;\n",
       "}\n",
       "#T_8111e_row1_col3 {\n",
       "  background-color: #3e4a89;\n",
       "  color: #f1f1f1;\n",
       "}\n",
       "#T_8111e_row1_col4 {\n",
       "  background-color: #46337f;\n",
       "  color: #f1f1f1;\n",
       "}\n",
       "#T_8111e_row1_col5 {\n",
       "  background-color: #443983;\n",
       "  color: #f1f1f1;\n",
       "}\n",
       "#T_8111e_row1_col6 {\n",
       "  background-color: #23898e;\n",
       "  color: #f1f1f1;\n",
       "}\n",
       "#T_8111e_row2_col0 {\n",
       "  background-color: #3e4989;\n",
       "  color: #f1f1f1;\n",
       "}\n",
       "#T_8111e_row2_col1 {\n",
       "  background-color: #48186a;\n",
       "  color: #f1f1f1;\n",
       "}\n",
       "#T_8111e_row2_col4 {\n",
       "  background-color: #3f4788;\n",
       "  color: #f1f1f1;\n",
       "}\n",
       "#T_8111e_row2_col5 {\n",
       "  background-color: #472e7c;\n",
       "  color: #f1f1f1;\n",
       "}\n",
       "#T_8111e_row3_col0 {\n",
       "  background-color: #39568c;\n",
       "  color: #f1f1f1;\n",
       "}\n",
       "#T_8111e_row3_col1 {\n",
       "  background-color: #404588;\n",
       "  color: #f1f1f1;\n",
       "}\n",
       "#T_8111e_row3_col6 {\n",
       "  background-color: #23888e;\n",
       "  color: #f1f1f1;\n",
       "}\n",
       "#T_8111e_row4_col0 {\n",
       "  background-color: #404688;\n",
       "  color: #f1f1f1;\n",
       "}\n",
       "#T_8111e_row4_col1 {\n",
       "  background-color: #3d4e8a;\n",
       "  color: #f1f1f1;\n",
       "}\n",
       "#T_8111e_row4_col2 {\n",
       "  background-color: #2a778e;\n",
       "  color: #f1f1f1;\n",
       "}\n",
       "#T_8111e_row4_col3 {\n",
       "  background-color: #472d7b;\n",
       "  color: #f1f1f1;\n",
       "}\n",
       "#T_8111e_row4_col5 {\n",
       "  background-color: #25838e;\n",
       "  color: #f1f1f1;\n",
       "}\n",
       "#T_8111e_row4_col6 {\n",
       "  background-color: #24878e;\n",
       "  color: #f1f1f1;\n",
       "}\n",
       "#T_8111e_row5_col0 {\n",
       "  background-color: #3a538b;\n",
       "  color: #f1f1f1;\n",
       "}\n",
       "#T_8111e_row5_col1 {\n",
       "  background-color: #365d8d;\n",
       "  color: #f1f1f1;\n",
       "}\n",
       "#T_8111e_row5_col2 {\n",
       "  background-color: #2d718e;\n",
       "  color: #f1f1f1;\n",
       "}\n",
       "#T_8111e_row5_col3 {\n",
       "  background-color: #443b84;\n",
       "  color: #f1f1f1;\n",
       "}\n",
       "#T_8111e_row5_col4 {\n",
       "  background-color: #238a8d;\n",
       "  color: #f1f1f1;\n",
       "}\n",
       "#T_8111e_row5_col6 {\n",
       "  background-color: #21918c;\n",
       "  color: #f1f1f1;\n",
       "}\n",
       "#T_8111e_row6_col0 {\n",
       "  background-color: #38588c;\n",
       "  color: #f1f1f1;\n",
       "}\n",
       "#T_8111e_row6_col1 {\n",
       "  background-color: #2c738e;\n",
       "  color: #f1f1f1;\n",
       "}\n",
       "#T_8111e_row6_col3 {\n",
       "  background-color: #2a768e;\n",
       "  color: #f1f1f1;\n",
       "}\n",
       "#T_8111e_row6_col4 {\n",
       "  background-color: #355e8d;\n",
       "  color: #f1f1f1;\n",
       "}\n",
       "#T_8111e_row6_col5 {\n",
       "  background-color: #33628d;\n",
       "  color: #f1f1f1;\n",
       "}\n",
       "</style>\n",
       "<table id=\"T_8111e\">\n",
       "  <thead>\n",
       "    <tr>\n",
       "      <th class=\"blank level0\" >&nbsp;</th>\n",
       "      <th id=\"T_8111e_level0_col0\" class=\"col_heading level0 col0\" >passengerid</th>\n",
       "      <th id=\"T_8111e_level0_col1\" class=\"col_heading level0 col1\" >survived</th>\n",
       "      <th id=\"T_8111e_level0_col2\" class=\"col_heading level0 col2\" >pclass</th>\n",
       "      <th id=\"T_8111e_level0_col3\" class=\"col_heading level0 col3\" >age</th>\n",
       "      <th id=\"T_8111e_level0_col4\" class=\"col_heading level0 col4\" >sibsp</th>\n",
       "      <th id=\"T_8111e_level0_col5\" class=\"col_heading level0 col5\" >parch</th>\n",
       "      <th id=\"T_8111e_level0_col6\" class=\"col_heading level0 col6\" >fare</th>\n",
       "    </tr>\n",
       "  </thead>\n",
       "  <tbody>\n",
       "    <tr>\n",
       "      <th id=\"T_8111e_level0_row0\" class=\"row_heading level0 row0\" >passengerid</th>\n",
       "      <td id=\"T_8111e_row0_col0\" class=\"data row0 col0\" >1.000000</td>\n",
       "      <td id=\"T_8111e_row0_col1\" class=\"data row0 col1\" >-0.331493</td>\n",
       "      <td id=\"T_8111e_row0_col2\" class=\"data row0 col2\" >-0.038354</td>\n",
       "      <td id=\"T_8111e_row0_col3\" class=\"data row0 col3\" >0.025731</td>\n",
       "      <td id=\"T_8111e_row0_col4\" class=\"data row0 col4\" >-0.055224</td>\n",
       "      <td id=\"T_8111e_row0_col5\" class=\"data row0 col5\" >0.008942</td>\n",
       "      <td id=\"T_8111e_row0_col6\" class=\"data row0 col6\" >0.031428</td>\n",
       "    </tr>\n",
       "    <tr>\n",
       "      <th id=\"T_8111e_level0_row1\" class=\"row_heading level0 row1\" >survived</th>\n",
       "      <td id=\"T_8111e_row1_col0\" class=\"data row1 col0\" >-0.331493</td>\n",
       "      <td id=\"T_8111e_row1_col1\" class=\"data row1 col1\" >1.000000</td>\n",
       "      <td id=\"T_8111e_row1_col2\" class=\"data row1 col2\" >-0.244686</td>\n",
       "      <td id=\"T_8111e_row1_col3\" class=\"data row1 col3\" >-0.060203</td>\n",
       "      <td id=\"T_8111e_row1_col4\" class=\"data row1 col4\" >-0.014375</td>\n",
       "      <td id=\"T_8111e_row1_col5\" class=\"data row1 col5\" >0.054908</td>\n",
       "      <td id=\"T_8111e_row1_col6\" class=\"data row1 col6\" >0.173653</td>\n",
       "    </tr>\n",
       "    <tr>\n",
       "      <th id=\"T_8111e_level0_row2\" class=\"row_heading level0 row2\" >pclass</th>\n",
       "      <td id=\"T_8111e_row2_col0\" class=\"data row2 col0\" >-0.038354</td>\n",
       "      <td id=\"T_8111e_row2_col1\" class=\"data row2 col1\" >-0.244686</td>\n",
       "      <td id=\"T_8111e_row2_col2\" class=\"data row2 col2\" >1.000000</td>\n",
       "      <td id=\"T_8111e_row2_col3\" class=\"data row2 col3\" >-0.366371</td>\n",
       "      <td id=\"T_8111e_row2_col4\" class=\"data row2 col4\" >0.060832</td>\n",
       "      <td id=\"T_8111e_row2_col5\" class=\"data row2 col5\" >0.018322</td>\n",
       "      <td id=\"T_8111e_row2_col6\" class=\"data row2 col6\" >-0.558629</td>\n",
       "    </tr>\n",
       "    <tr>\n",
       "      <th id=\"T_8111e_level0_row3\" class=\"row_heading level0 row3\" >age</th>\n",
       "      <td id=\"T_8111e_row3_col0\" class=\"data row3 col0\" >0.025731</td>\n",
       "      <td id=\"T_8111e_row3_col1\" class=\"data row3 col1\" >-0.060203</td>\n",
       "      <td id=\"T_8111e_row3_col2\" class=\"data row3 col2\" >-0.366371</td>\n",
       "      <td id=\"T_8111e_row3_col3\" class=\"data row3 col3\" >1.000000</td>\n",
       "      <td id=\"T_8111e_row3_col4\" class=\"data row3 col4\" >-0.190747</td>\n",
       "      <td id=\"T_8111e_row3_col5\" class=\"data row3 col5\" >-0.130872</td>\n",
       "      <td id=\"T_8111e_row3_col6\" class=\"data row3 col6\" >0.171893</td>\n",
       "    </tr>\n",
       "    <tr>\n",
       "      <th id=\"T_8111e_level0_row4\" class=\"row_heading level0 row4\" >sibsp</th>\n",
       "      <td id=\"T_8111e_row4_col0\" class=\"data row4 col0\" >-0.055224</td>\n",
       "      <td id=\"T_8111e_row4_col1\" class=\"data row4 col1\" >-0.014375</td>\n",
       "      <td id=\"T_8111e_row4_col2\" class=\"data row4 col2\" >0.060832</td>\n",
       "      <td id=\"T_8111e_row4_col3\" class=\"data row4 col3\" >-0.190747</td>\n",
       "      <td id=\"T_8111e_row4_col4\" class=\"data row4 col4\" >1.000000</td>\n",
       "      <td id=\"T_8111e_row4_col5\" class=\"data row4 col5\" >0.373587</td>\n",
       "      <td id=\"T_8111e_row4_col6\" class=\"data row4 col6\" >0.160238</td>\n",
       "    </tr>\n",
       "    <tr>\n",
       "      <th id=\"T_8111e_level0_row5\" class=\"row_heading level0 row5\" >parch</th>\n",
       "      <td id=\"T_8111e_row5_col0\" class=\"data row5 col0\" >0.008942</td>\n",
       "      <td id=\"T_8111e_row5_col1\" class=\"data row5 col1\" >0.054908</td>\n",
       "      <td id=\"T_8111e_row5_col2\" class=\"data row5 col2\" >0.018322</td>\n",
       "      <td id=\"T_8111e_row5_col3\" class=\"data row5 col3\" >-0.130872</td>\n",
       "      <td id=\"T_8111e_row5_col4\" class=\"data row5 col4\" >0.373587</td>\n",
       "      <td id=\"T_8111e_row5_col5\" class=\"data row5 col5\" >1.000000</td>\n",
       "      <td id=\"T_8111e_row5_col6\" class=\"data row5 col6\" >0.221539</td>\n",
       "    </tr>\n",
       "    <tr>\n",
       "      <th id=\"T_8111e_level0_row6\" class=\"row_heading level0 row6\" >fare</th>\n",
       "      <td id=\"T_8111e_row6_col0\" class=\"data row6 col0\" >0.031428</td>\n",
       "      <td id=\"T_8111e_row6_col1\" class=\"data row6 col1\" >0.173653</td>\n",
       "      <td id=\"T_8111e_row6_col2\" class=\"data row6 col2\" >-0.558629</td>\n",
       "      <td id=\"T_8111e_row6_col3\" class=\"data row6 col3\" >0.171893</td>\n",
       "      <td id=\"T_8111e_row6_col4\" class=\"data row6 col4\" >0.160238</td>\n",
       "      <td id=\"T_8111e_row6_col5\" class=\"data row6 col5\" >0.221539</td>\n",
       "      <td id=\"T_8111e_row6_col6\" class=\"data row6 col6\" >1.000000</td>\n",
       "    </tr>\n",
       "  </tbody>\n",
       "</table>\n"
      ],
      "text/plain": [
       "<pandas.io.formats.style.Styler at 0x7e63b18aa290>"
      ]
     },
     "execution_count": 18,
     "metadata": {},
     "output_type": "execute_result"
    }
   ],
   "source": [
    "df.corr().style.background_gradient(cmap='viridis')"
   ]
  },
  {
   "cell_type": "code",
   "execution_count": 19,
   "id": "a3e0f04c",
   "metadata": {
    "execution": {
     "iopub.execute_input": "2024-09-10T14:09:37.264914Z",
     "iopub.status.busy": "2024-09-10T14:09:37.264210Z",
     "iopub.status.idle": "2024-09-10T14:09:37.272931Z",
     "shell.execute_reply": "2024-09-10T14:09:37.271344Z"
    },
    "papermill": {
     "duration": 0.030677,
     "end_time": "2024-09-10T14:09:37.275642",
     "exception": false,
     "start_time": "2024-09-10T14:09:37.244965",
     "status": "completed"
    },
    "tags": []
   },
   "outputs": [],
   "source": [
    "train_data.drop(['name','ticket','cabin'],axis=1,inplace=True)"
   ]
  },
  {
   "cell_type": "code",
   "execution_count": 20,
   "id": "753e0a84",
   "metadata": {
    "execution": {
     "iopub.execute_input": "2024-09-10T14:09:37.315141Z",
     "iopub.status.busy": "2024-09-10T14:09:37.314707Z",
     "iopub.status.idle": "2024-09-10T14:09:37.327825Z",
     "shell.execute_reply": "2024-09-10T14:09:37.326642Z"
    },
    "papermill": {
     "duration": 0.037273,
     "end_time": "2024-09-10T14:09:37.330727",
     "exception": false,
     "start_time": "2024-09-10T14:09:37.293454",
     "status": "completed"
    },
    "tags": []
   },
   "outputs": [],
   "source": [
    "train_df = pd.get_dummies(train_data, columns = ['sex', 'embarked'], dtype=int)"
   ]
  },
  {
   "cell_type": "code",
   "execution_count": 21,
   "id": "977b6390",
   "metadata": {
    "execution": {
     "iopub.execute_input": "2024-09-10T14:09:37.370327Z",
     "iopub.status.busy": "2024-09-10T14:09:37.369895Z",
     "iopub.status.idle": "2024-09-10T14:09:37.384829Z",
     "shell.execute_reply": "2024-09-10T14:09:37.383398Z"
    },
    "papermill": {
     "duration": 0.037708,
     "end_time": "2024-09-10T14:09:37.387805",
     "exception": false,
     "start_time": "2024-09-10T14:09:37.350097",
     "status": "completed"
    },
    "tags": []
   },
   "outputs": [
    {
     "name": "stdout",
     "output_type": "stream",
     "text": [
      "<class 'pandas.core.frame.DataFrame'>\n",
      "RangeIndex: 1309 entries, 0 to 1308\n",
      "Data columns (total 12 columns):\n",
      " #   Column       Non-Null Count  Dtype  \n",
      "---  ------       --------------  -----  \n",
      " 0   passengerid  1309 non-null   int64  \n",
      " 1   survived     1309 non-null   int64  \n",
      " 2   pclass       1309 non-null   int64  \n",
      " 3   age          1309 non-null   float64\n",
      " 4   sibsp        1309 non-null   int64  \n",
      " 5   parch        1309 non-null   int64  \n",
      " 6   fare         1308 non-null   float64\n",
      " 7   sex_female   1309 non-null   int64  \n",
      " 8   sex_male     1309 non-null   int64  \n",
      " 9   embarked_C   1309 non-null   int64  \n",
      " 10  embarked_Q   1309 non-null   int64  \n",
      " 11  embarked_S   1309 non-null   int64  \n",
      "dtypes: float64(2), int64(10)\n",
      "memory usage: 122.8 KB\n"
     ]
    }
   ],
   "source": [
    "train_df.info()"
   ]
  },
  {
   "cell_type": "code",
   "execution_count": 22,
   "id": "ef187d10",
   "metadata": {
    "execution": {
     "iopub.execute_input": "2024-09-10T14:09:37.428027Z",
     "iopub.status.busy": "2024-09-10T14:09:37.427525Z",
     "iopub.status.idle": "2024-09-10T14:09:43.443686Z",
     "shell.execute_reply": "2024-09-10T14:09:43.442266Z"
    },
    "papermill": {
     "duration": 6.040136,
     "end_time": "2024-09-10T14:09:43.447994",
     "exception": false,
     "start_time": "2024-09-10T14:09:37.407858",
     "status": "completed"
    },
    "tags": []
   },
   "outputs": [
    {
     "data": {
      "image/png": "[encoded data removed]",
      "text/plain": [
       "<Figure size 1500x2000 with 16 Axes>"
      ]
     },
     "metadata": {},
     "output_type": "display_data"
    }
   ],
   "source": [
    "# outlier check\n",
    "plt.figure(figsize=(15, 20))\n",
    "\n",
    "for i, c in enumerate(train_df.drop(['passengerid','embarked_C','embarked_Q','embarked_S'],axis=1).select_dtypes(include='number').columns):\n",
    "    plt.subplot(10,2,i*2+1)\n",
    "    sns.boxplot(train_df[c], color='blue')\n",
    "    plt.title('Distribution plot for field:' + c)\n",
    "    plt.xlabel('')\n",
    "    plt.tight_layout(pad=0.4, w_pad=0.5, h_pad=1.0)\n",
    "\n",
    "    \n",
    "    plt.subplot(10,2,i*2+2)\n",
    "    sns.boxplot(train_df[c].apply('log1p'), color='red')\n",
    "    plt.title('Log1p distribution plot for field:' + c)\n",
    "    plt.xlabel('')\n",
    "    plt.tight_layout(pad=0.4, w_pad=0.5, h_pad=1.0)"
   ]
  },
  {
   "cell_type": "code",
   "execution_count": 23,
   "id": "1713df08",
   "metadata": {
    "execution": {
     "iopub.execute_input": "2024-09-10T14:09:43.491024Z",
     "iopub.status.busy": "2024-09-10T14:09:43.490567Z",
     "iopub.status.idle": "2024-09-10T14:09:47.087465Z",
     "shell.execute_reply": "2024-09-10T14:09:47.086182Z"
    },
    "papermill": {
     "duration": 3.621745,
     "end_time": "2024-09-10T14:09:47.090388",
     "exception": false,
     "start_time": "2024-09-10T14:09:43.468643",
     "status": "completed"
    },
    "tags": []
   },
   "outputs": [
    {
     "name": "stderr",
     "output_type": "stream",
     "text": [
      "/opt/conda/lib/python3.10/site-packages/seaborn/_oldcore.py:1119: FutureWarning: use_inf_as_na option is deprecated and will be removed in a future version. Convert inf values to NaN before operating instead.\n",
      "  with pd.option_context('mode.use_inf_as_na', True):\n",
      "/opt/conda/lib/python3.10/site-packages/seaborn/_oldcore.py:1119: FutureWarning: use_inf_as_na option is deprecated and will be removed in a future version. Convert inf values to NaN before operating instead.\n",
      "  with pd.option_context('mode.use_inf_as_na', True):\n",
      "/opt/conda/lib/python3.10/site-packages/seaborn/_oldcore.py:1119: FutureWarning: use_inf_as_na option is deprecated and will be removed in a future version. Convert inf values to NaN before operating instead.\n",
      "  with pd.option_context('mode.use_inf_as_na', True):\n",
      "/opt/conda/lib/python3.10/site-packages/seaborn/_oldcore.py:1119: FutureWarning: use_inf_as_na option is deprecated and will be removed in a future version. Convert inf values to NaN before operating instead.\n",
      "  with pd.option_context('mode.use_inf_as_na', True):\n",
      "/opt/conda/lib/python3.10/site-packages/seaborn/_oldcore.py:1119: FutureWarning: use_inf_as_na option is deprecated and will be removed in a future version. Convert inf values to NaN before operating instead.\n",
      "  with pd.option_context('mode.use_inf_as_na', True):\n",
      "/opt/conda/lib/python3.10/site-packages/seaborn/_oldcore.py:1119: FutureWarning: use_inf_as_na option is deprecated and will be removed in a future version. Convert inf values to NaN before operating instead.\n",
      "  with pd.option_context('mode.use_inf_as_na', True):\n",
      "/opt/conda/lib/python3.10/site-packages/seaborn/_oldcore.py:1119: FutureWarning: use_inf_as_na option is deprecated and will be removed in a future version. Convert inf values to NaN before operating instead.\n",
      "  with pd.option_context('mode.use_inf_as_na', True):\n",
      "/opt/conda/lib/python3.10/site-packages/seaborn/_oldcore.py:1119: FutureWarning: use_inf_as_na option is deprecated and will be removed in a future version. Convert inf values to NaN before operating instead.\n",
      "  with pd.option_context('mode.use_inf_as_na', True):\n"
     ]
    },
    {
     "data": {
      "image/png": "[encoded data removed]",
      "text/plain": [
       "<Figure size 1500x1200 with 8 Axes>"
      ]
     },
     "metadata": {},
     "output_type": "display_data"
    }
   ],
   "source": [
    "# Handle infinite values (if any)\n",
    "train_df = train_df.replace([np.inf, -np.inf], np.nan)  # Replace inf with NaN\n",
    "\n",
    "plt.figure(figsize=(15, 12))\n",
    "\n",
    "for i, c in enumerate(train_df.drop(['passengerid','embarked_C','embarked_Q','embarked_S'],axis=1).select_dtypes(include='number').columns):\n",
    "    # Subplot without auto-removal\n",
    "    ax = plt.subplot(5, 2, i+1)\n",
    "    sns.histplot(train_df[c], ax=ax)  # Use ax argument to avoid overlap\n",
    "    plt.title('Distribution plot for field:' + c)\n",
    "    plt.xlabel('')\n",
    "    plt.tight_layout(pad=0.4, w_pad=0.5, h_pad=1.0)\n",
    "\n",
    "plt.show()"
   ]
  },
  {
   "cell_type": "code",
   "execution_count": 24,
   "id": "f9ff28cf",
   "metadata": {
    "execution": {
     "iopub.execute_input": "2024-09-10T14:09:47.137818Z",
     "iopub.status.busy": "2024-09-10T14:09:47.137350Z",
     "iopub.status.idle": "2024-09-10T14:09:47.148796Z",
     "shell.execute_reply": "2024-09-10T14:09:47.147464Z"
    },
    "papermill": {
     "duration": 0.037925,
     "end_time": "2024-09-10T14:09:47.151573",
     "exception": false,
     "start_time": "2024-09-10T14:09:47.113648",
     "status": "completed"
    },
    "tags": []
   },
   "outputs": [
    {
     "data": {
      "text/plain": [
       "Index(['passengerid', 'survived', 'pclass', 'age', 'sibsp', 'parch', 'fare',\n",
       "       'sex_female', 'sex_male', 'embarked_C', 'embarked_Q', 'embarked_S'],\n",
       "      dtype='object')"
      ]
     },
     "execution_count": 24,
     "metadata": {},
     "output_type": "execute_result"
    }
   ],
   "source": [
    "train_df.columns"
   ]
  },
  {
   "cell_type": "code",
   "execution_count": 25,
   "id": "9c7b9b0c",
   "metadata": {
    "execution": {
     "iopub.execute_input": "2024-09-10T14:09:47.199683Z",
     "iopub.status.busy": "2024-09-10T14:09:47.198485Z",
     "iopub.status.idle": "2024-09-10T14:09:47.206099Z",
     "shell.execute_reply": "2024-09-10T14:09:47.204752Z"
    },
    "papermill": {
     "duration": 0.034522,
     "end_time": "2024-09-10T14:09:47.208819",
     "exception": false,
     "start_time": "2024-09-10T14:09:47.174297",
     "status": "completed"
    },
    "tags": []
   },
   "outputs": [
    {
     "name": "stderr",
     "output_type": "stream",
     "text": [
      "/tmp/ipykernel_17/831796967.py:6: SettingWithCopyWarning: \n",
      "A value is trying to be set on a copy of a slice from a DataFrame.\n",
      "Try using .loc[row_indexer,col_indexer] = value instead\n",
      "\n",
      "See the caveats in the documentation: https://pandas.pydata.org/pandas-docs/stable/user_guide/indexing.html#returning-a-view-versus-a-copy\n",
      "  df[c] = df[c].apply('log1p')\n"
     ]
    }
   ],
   "source": [
    "# save skewed features\n",
    "skewed_cols = ['fare']\n",
    "\n",
    "# Apply log1p transformation on dataframe - just selected values\n",
    "for c in skewed_cols:\n",
    "    df[c] = df[c].apply('log1p')"
   ]
  },
  {
   "cell_type": "code",
   "execution_count": 26,
   "id": "a7a6cc65",
   "metadata": {
    "execution": {
     "iopub.execute_input": "2024-09-10T14:09:47.256116Z",
     "iopub.status.busy": "2024-09-10T14:09:47.255604Z",
     "iopub.status.idle": "2024-09-10T14:09:47.783195Z",
     "shell.execute_reply": "2024-09-10T14:09:47.781860Z"
    },
    "papermill": {
     "duration": 0.55442,
     "end_time": "2024-09-10T14:09:47.786112",
     "exception": false,
     "start_time": "2024-09-10T14:09:47.231692",
     "status": "completed"
    },
    "tags": []
   },
   "outputs": [
    {
     "name": "stderr",
     "output_type": "stream",
     "text": [
      "/opt/conda/lib/python3.10/site-packages/seaborn/_oldcore.py:1119: FutureWarning: use_inf_as_na option is deprecated and will be removed in a future version. Convert inf values to NaN before operating instead.\n",
      "  with pd.option_context('mode.use_inf_as_na', True):\n"
     ]
    },
    {
     "data": {
      "image/png": "[encoded data removed]",
      "text/plain": [
       "<Figure size 1500x1200 with 1 Axes>"
      ]
     },
     "metadata": {},
     "output_type": "display_data"
    }
   ],
   "source": [
    "# Next check & fix strongly skewed features\n",
    "# apply log1p transform\n",
    "plt.figure(figsize=(15, 12))\n",
    "\n",
    "for i, c in enumerate(skewed_cols):\n",
    "    plt.subplot(5,2,i+1)\n",
    "    sns.histplot(df[c].apply(np.log1p))\n",
    "    plt.title('Distribution plot for field:' + c)\n",
    "    plt.xlabel('')\n",
    "    plt.tight_layout(pad=0.4, w_pad=0.5, h_pad=1.0)"
   ]
  },
  {
   "cell_type": "code",
   "execution_count": 27,
   "id": "9d3b3e16",
   "metadata": {
    "execution": {
     "iopub.execute_input": "2024-09-10T14:09:47.835861Z",
     "iopub.status.busy": "2024-09-10T14:09:47.834860Z",
     "iopub.status.idle": "2024-09-10T14:09:48.068432Z",
     "shell.execute_reply": "2024-09-10T14:09:48.066747Z"
    },
    "papermill": {
     "duration": 0.262159,
     "end_time": "2024-09-10T14:09:48.071577",
     "exception": false,
     "start_time": "2024-09-10T14:09:47.809418",
     "status": "completed"
    },
    "tags": []
   },
   "outputs": [],
   "source": [
    "from sklearn.preprocessing import RobustScaler"
   ]
  },
  {
   "cell_type": "code",
   "execution_count": 28,
   "id": "e87163cf",
   "metadata": {
    "execution": {
     "iopub.execute_input": "2024-09-10T14:09:48.122123Z",
     "iopub.status.busy": "2024-09-10T14:09:48.121656Z",
     "iopub.status.idle": "2024-09-10T14:09:48.165366Z",
     "shell.execute_reply": "2024-09-10T14:09:48.163858Z"
    },
    "papermill": {
     "duration": 0.071701,
     "end_time": "2024-09-10T14:09:48.168591",
     "exception": false,
     "start_time": "2024-09-10T14:09:48.096890",
     "status": "completed"
    },
    "tags": []
   },
   "outputs": [
    {
     "data": {
      "text/html": [
       "<div>\n",
       "<style scoped>\n",
       "    .dataframe tbody tr th:only-of-type {\n",
       "        vertical-align: middle;\n",
       "    }\n",
       "\n",
       "    .dataframe tbody tr th {\n",
       "        vertical-align: top;\n",
       "    }\n",
       "\n",
       "    .dataframe thead th {\n",
       "        text-align: right;\n",
       "    }\n",
       "</style>\n",
       "<table border=\"1\" class=\"dataframe\">\n",
       "  <thead>\n",
       "    <tr style=\"text-align: right;\">\n",
       "      <th></th>\n",
       "      <th>passengerid</th>\n",
       "      <th>survived</th>\n",
       "      <th>pclass</th>\n",
       "      <th>age</th>\n",
       "      <th>sibsp</th>\n",
       "      <th>parch</th>\n",
       "      <th>fare</th>\n",
       "      <th>sex_female</th>\n",
       "      <th>sex_male</th>\n",
       "      <th>embarked_C</th>\n",
       "      <th>embarked_Q</th>\n",
       "      <th>embarked_S</th>\n",
       "    </tr>\n",
       "  </thead>\n",
       "  <tbody>\n",
       "    <tr>\n",
       "      <th>0</th>\n",
       "      <td>1</td>\n",
       "      <td>0</td>\n",
       "      <td>0.0</td>\n",
       "      <td>-0.606241</td>\n",
       "      <td>1.0</td>\n",
       "      <td>0.0</td>\n",
       "      <td>-0.308146</td>\n",
       "      <td>0.0</td>\n",
       "      <td>0.0</td>\n",
       "      <td>0.0</td>\n",
       "      <td>0.0</td>\n",
       "      <td>0.0</td>\n",
       "    </tr>\n",
       "    <tr>\n",
       "      <th>1</th>\n",
       "      <td>2</td>\n",
       "      <td>1</td>\n",
       "      <td>-2.0</td>\n",
       "      <td>0.624528</td>\n",
       "      <td>1.0</td>\n",
       "      <td>0.0</td>\n",
       "      <td>2.430755</td>\n",
       "      <td>1.0</td>\n",
       "      <td>-1.0</td>\n",
       "      <td>1.0</td>\n",
       "      <td>0.0</td>\n",
       "      <td>-1.0</td>\n",
       "    </tr>\n",
       "    <tr>\n",
       "      <th>2</th>\n",
       "      <td>3</td>\n",
       "      <td>1</td>\n",
       "      <td>0.0</td>\n",
       "      <td>-0.298549</td>\n",
       "      <td>0.0</td>\n",
       "      <td>0.0</td>\n",
       "      <td>-0.279274</td>\n",
       "      <td>1.0</td>\n",
       "      <td>-1.0</td>\n",
       "      <td>0.0</td>\n",
       "      <td>0.0</td>\n",
       "      <td>0.0</td>\n",
       "    </tr>\n",
       "    <tr>\n",
       "      <th>3</th>\n",
       "      <td>4</td>\n",
       "      <td>1</td>\n",
       "      <td>-2.0</td>\n",
       "      <td>0.393759</td>\n",
       "      <td>1.0</td>\n",
       "      <td>0.0</td>\n",
       "      <td>1.652999</td>\n",
       "      <td>1.0</td>\n",
       "      <td>-1.0</td>\n",
       "      <td>0.0</td>\n",
       "      <td>0.0</td>\n",
       "      <td>0.0</td>\n",
       "    </tr>\n",
       "    <tr>\n",
       "      <th>4</th>\n",
       "      <td>5</td>\n",
       "      <td>0</td>\n",
       "      <td>0.0</td>\n",
       "      <td>0.393759</td>\n",
       "      <td>0.0</td>\n",
       "      <td>0.0</td>\n",
       "      <td>-0.273927</td>\n",
       "      <td>0.0</td>\n",
       "      <td>0.0</td>\n",
       "      <td>0.0</td>\n",
       "      <td>0.0</td>\n",
       "      <td>0.0</td>\n",
       "    </tr>\n",
       "  </tbody>\n",
       "</table>\n",
       "</div>"
      ],
      "text/plain": [
       "   passengerid  survived  pclass       age  sibsp  parch      fare  \\\n",
       "0            1         0     0.0 -0.606241    1.0    0.0 -0.308146   \n",
       "1            2         1    -2.0  0.624528    1.0    0.0  2.430755   \n",
       "2            3         1     0.0 -0.298549    0.0    0.0 -0.279274   \n",
       "3            4         1    -2.0  0.393759    1.0    0.0  1.652999   \n",
       "4            5         0     0.0  0.393759    0.0    0.0 -0.273927   \n",
       "\n",
       "   sex_female  sex_male  embarked_C  embarked_Q  embarked_S  \n",
       "0         0.0       0.0         0.0         0.0         0.0  \n",
       "1         1.0      -1.0         1.0         0.0        -1.0  \n",
       "2         1.0      -1.0         0.0         0.0         0.0  \n",
       "3         1.0      -1.0         0.0         0.0         0.0  \n",
       "4         0.0       0.0         0.0         0.0         0.0  "
      ]
     },
     "execution_count": 28,
     "metadata": {},
     "output_type": "execute_result"
    }
   ],
   "source": [
    "rs = RobustScaler()\n",
    "for c in train_df[['pclass', 'age', 'sibsp', 'parch', 'fare',\n",
    "       'sex_female', 'sex_male', 'embarked_C', 'embarked_Q', 'embarked_S']].columns:\n",
    "    train_df[c] = rs.fit_transform(train_df[c].values.reshape(-1, 1))\n",
    "train_df.head()"
   ]
  },
  {
   "cell_type": "code",
   "execution_count": 29,
   "id": "4932d15e",
   "metadata": {
    "execution": {
     "iopub.execute_input": "2024-09-10T14:09:48.222134Z",
     "iopub.status.busy": "2024-09-10T14:09:48.220903Z",
     "iopub.status.idle": "2024-09-10T14:09:48.228080Z",
     "shell.execute_reply": "2024-09-10T14:09:48.226463Z"
    },
    "papermill": {
     "duration": 0.037414,
     "end_time": "2024-09-10T14:09:48.231400",
     "exception": false,
     "start_time": "2024-09-10T14:09:48.193986",
     "status": "completed"
    },
    "tags": []
   },
   "outputs": [],
   "source": [
    "#Actual dataset to be tested\n",
    "test_df = train_df[891:]"
   ]
  },
  {
   "cell_type": "code",
   "execution_count": 30,
   "id": "185b418c",
   "metadata": {
    "execution": {
     "iopub.execute_input": "2024-09-10T14:09:48.294676Z",
     "iopub.status.busy": "2024-09-10T14:09:48.294175Z",
     "iopub.status.idle": "2024-09-10T14:09:48.301907Z",
     "shell.execute_reply": "2024-09-10T14:09:48.300019Z"
    },
    "papermill": {
     "duration": 0.047398,
     "end_time": "2024-09-10T14:09:48.305274",
     "exception": false,
     "start_time": "2024-09-10T14:09:48.257876",
     "status": "completed"
    },
    "tags": []
   },
   "outputs": [],
   "source": [
    "train_df = train_df[:891]"
   ]
  },
  {
   "cell_type": "code",
   "execution_count": 31,
   "id": "0a7694c4",
   "metadata": {
    "execution": {
     "iopub.execute_input": "2024-09-10T14:09:48.357250Z",
     "iopub.status.busy": "2024-09-10T14:09:48.356729Z",
     "iopub.status.idle": "2024-09-10T14:09:48.368463Z",
     "shell.execute_reply": "2024-09-10T14:09:48.367034Z"
    },
    "papermill": {
     "duration": 0.042023,
     "end_time": "2024-09-10T14:09:48.371522",
     "exception": false,
     "start_time": "2024-09-10T14:09:48.329499",
     "status": "completed"
    },
    "tags": []
   },
   "outputs": [
    {
     "data": {
      "text/plain": [
       "survived\n",
       "0    549\n",
       "1    342\n",
       "Name: count, dtype: int64"
      ]
     },
     "execution_count": 31,
     "metadata": {},
     "output_type": "execute_result"
    }
   ],
   "source": [
    "from sklearn.utils import resample\n",
    "train_df.survived.value_counts()"
   ]
  },
  {
   "cell_type": "code",
   "execution_count": 32,
   "id": "3a4f9d63",
   "metadata": {
    "execution": {
     "iopub.execute_input": "2024-09-10T14:09:48.423697Z",
     "iopub.status.busy": "2024-09-10T14:09:48.422426Z",
     "iopub.status.idle": "2024-09-10T14:09:48.434903Z",
     "shell.execute_reply": "2024-09-10T14:09:48.433240Z"
    },
    "papermill": {
     "duration": 0.040456,
     "end_time": "2024-09-10T14:09:48.437677",
     "exception": false,
     "start_time": "2024-09-10T14:09:48.397221",
     "status": "completed"
    },
    "tags": []
   },
   "outputs": [
    {
     "name": "stdout",
     "output_type": "stream",
     "text": [
      "Minority size: (342, 12)\n",
      "Majority size: (549, 12)\n"
     ]
    }
   ],
   "source": [
    "# Split data on majority and minority.. minority is dataset == 2\n",
    "minority = train_df[train_df.survived==1]\n",
    "majority = train_df[train_df.survived==0]\n",
    "\n",
    "print('Minority size:', minority.shape)\n",
    "print('Majority size:', majority.shape)"
   ]
  },
  {
   "cell_type": "code",
   "execution_count": 33,
   "id": "9ea8f174",
   "metadata": {
    "execution": {
     "iopub.execute_input": "2024-09-10T14:09:48.499045Z",
     "iopub.status.busy": "2024-09-10T14:09:48.498411Z",
     "iopub.status.idle": "2024-09-10T14:09:48.510985Z",
     "shell.execute_reply": "2024-09-10T14:09:48.508723Z"
    },
    "papermill": {
     "duration": 0.053289,
     "end_time": "2024-09-10T14:09:48.515063",
     "exception": false,
     "start_time": "2024-09-10T14:09:48.461774",
     "status": "completed"
    },
    "tags": []
   },
   "outputs": [
    {
     "name": "stdout",
     "output_type": "stream",
     "text": [
      "Minority upsampled size: (549, 12)\n"
     ]
    }
   ],
   "source": [
    "# choosing upsample as even now we do not have too much data\n",
    "minority_upsample = resample(minority, replace=True, n_samples=majority.shape[0])\n",
    "print('Minority upsampled size:', minority_upsample.shape)"
   ]
  },
  {
   "cell_type": "code",
   "execution_count": 34,
   "id": "33317044",
   "metadata": {
    "execution": {
     "iopub.execute_input": "2024-09-10T14:09:48.579585Z",
     "iopub.status.busy": "2024-09-10T14:09:48.579121Z",
     "iopub.status.idle": "2024-09-10T14:09:48.587161Z",
     "shell.execute_reply": "2024-09-10T14:09:48.585794Z"
    },
    "papermill": {
     "duration": 0.042337,
     "end_time": "2024-09-10T14:09:48.589721",
     "exception": false,
     "start_time": "2024-09-10T14:09:48.547384",
     "status": "completed"
    },
    "tags": []
   },
   "outputs": [],
   "source": [
    "# merge majority with upsampled minority\n",
    "df = pd.concat([minority_upsample, majority], axis=0)"
   ]
  },
  {
   "cell_type": "code",
   "execution_count": 35,
   "id": "9a17f347",
   "metadata": {
    "execution": {
     "iopub.execute_input": "2024-09-10T14:09:48.698548Z",
     "iopub.status.busy": "2024-09-10T14:09:48.698051Z",
     "iopub.status.idle": "2024-09-10T14:09:48.847448Z",
     "shell.execute_reply": "2024-09-10T14:09:48.846073Z"
    },
    "papermill": {
     "duration": 0.237274,
     "end_time": "2024-09-10T14:09:48.851402",
     "exception": false,
     "start_time": "2024-09-10T14:09:48.614128",
     "status": "completed"
    },
    "tags": []
   },
   "outputs": [],
   "source": [
    "from sklearn.model_selection import train_test_split\n",
    "x_train, x_test, y_train, y_test = train_test_split(train_df.drop('survived', axis=1), train_df['survived'], test_size=0.25, random_state=123)"
   ]
  },
  {
   "cell_type": "code",
   "execution_count": 36,
   "id": "6b377430",
   "metadata": {
    "execution": {
     "iopub.execute_input": "2024-09-10T14:09:48.901875Z",
     "iopub.status.busy": "2024-09-10T14:09:48.901314Z",
     "iopub.status.idle": "2024-09-10T14:09:48.909243Z",
     "shell.execute_reply": "2024-09-10T14:09:48.907904Z"
    },
    "papermill": {
     "duration": 0.037284,
     "end_time": "2024-09-10T14:09:48.912499",
     "exception": false,
     "start_time": "2024-09-10T14:09:48.875215",
     "status": "completed"
    },
    "tags": []
   },
   "outputs": [
    {
     "name": "stdout",
     "output_type": "stream",
     "text": [
      "Train values shape: (668, 11)\n",
      "Test values shape: (223, 11)\n",
      "Train target shape: (668,)\n",
      "Test target shape: (223,)\n"
     ]
    }
   ],
   "source": [
    "print('Train values shape:', x_train.shape)\n",
    "print('Test values shape:', x_test.shape)\n",
    "print('Train target shape:', y_train.shape)\n",
    "print('Test target shape:', y_test.shape)"
   ]
  },
  {
   "cell_type": "code",
   "execution_count": 37,
   "id": "ab3661aa",
   "metadata": {
    "execution": {
     "iopub.execute_input": "2024-09-10T14:09:48.963239Z",
     "iopub.status.busy": "2024-09-10T14:09:48.962763Z",
     "iopub.status.idle": "2024-09-10T14:09:49.297415Z",
     "shell.execute_reply": "2024-09-10T14:09:49.296048Z"
    },
    "papermill": {
     "duration": 0.364202,
     "end_time": "2024-09-10T14:09:49.300605",
     "exception": false,
     "start_time": "2024-09-10T14:09:48.936403",
     "status": "completed"
    },
    "tags": []
   },
   "outputs": [],
   "source": [
    "from sklearn.svm import SVC\n",
    "from sklearn.ensemble import RandomForestClassifier\n",
    "from sklearn.linear_model import LogisticRegression\n",
    "from sklearn.neighbors import KNeighborsClassifier\n",
    "from sklearn.neural_network import MLPClassifier\n",
    "\n",
    "\n",
    "from sklearn.metrics import classification_report, confusion_matrix, roc_auc_score"
   ]
  },
  {
   "cell_type": "code",
   "execution_count": 38,
   "id": "68e235e8",
   "metadata": {
    "execution": {
     "iopub.execute_input": "2024-09-10T14:09:49.353553Z",
     "iopub.status.busy": "2024-09-10T14:09:49.351879Z",
     "iopub.status.idle": "2024-09-10T14:09:49.441413Z",
     "shell.execute_reply": "2024-09-10T14:09:49.439945Z"
    },
    "papermill": {
     "duration": 0.119843,
     "end_time": "2024-09-10T14:09:49.444946",
     "exception": false,
     "start_time": "2024-09-10T14:09:49.325103",
     "status": "completed"
    },
    "tags": []
   },
   "outputs": [
    {
     "name": "stdout",
     "output_type": "stream",
     "text": [
      "LogisticRegression()\n",
      "Train performance\n",
      "-------------------------------------------------------\n",
      "              precision    recall  f1-score   support\n",
      "\n",
      "           0       0.83      0.86      0.84       410\n",
      "           1       0.76      0.71      0.73       258\n",
      "\n",
      "    accuracy                           0.80       668\n",
      "   macro avg       0.79      0.78      0.79       668\n",
      "weighted avg       0.80      0.80      0.80       668\n",
      "\n",
      "Test performance\n",
      "-------------------------------------------------------\n",
      "              precision    recall  f1-score   support\n",
      "\n",
      "           0       0.84      0.85      0.84       139\n",
      "           1       0.74      0.73      0.73        84\n",
      "\n",
      "    accuracy                           0.80       223\n",
      "   macro avg       0.79      0.79      0.79       223\n",
      "weighted avg       0.80      0.80      0.80       223\n",
      "\n",
      "Roc_auc score\n",
      "-------------------------------------------------------\n",
      "0.7875556697499144\n",
      "\n",
      "Confusion matrix\n",
      "-------------------------------------------------------\n",
      "[[118  21]\n",
      " [ 23  61]]\n"
     ]
    },
    {
     "name": "stderr",
     "output_type": "stream",
     "text": [
      "/opt/conda/lib/python3.10/site-packages/sklearn/linear_model/_logistic.py:458: ConvergenceWarning: lbfgs failed to converge (status=1):\n",
      "STOP: TOTAL NO. of ITERATIONS REACHED LIMIT.\n",
      "\n",
      "Increase the number of iterations (max_iter) or scale the data as shown in:\n",
      "    https://scikit-learn.org/stable/modules/preprocessing.html\n",
      "Please also refer to the documentation for alternative solver options:\n",
      "    https://scikit-learn.org/stable/modules/linear_model.html#logistic-regression\n",
      "  n_iter_i = _check_optimize_result(\n"
     ]
    }
   ],
   "source": [
    "# Logistic Regression\n",
    "model = LogisticRegression()\n",
    "model.fit(x_train, y_train)\n",
    "y_train_hat = model.predict(x_train)\n",
    "y_test_hat = model.predict(x_test)\n",
    "\n",
    "print(model)\n",
    "print('Train performance')\n",
    "print('-------------------------------------------------------')\n",
    "print(classification_report(y_train, y_train_hat))\n",
    "\n",
    "print('Test performance')\n",
    "print('-------------------------------------------------------')\n",
    "print(classification_report(y_test, y_test_hat))\n",
    "\n",
    "print('Roc_auc score')\n",
    "print('-------------------------------------------------------')\n",
    "print(roc_auc_score(y_test, y_test_hat))\n",
    "print('')\n",
    "\n",
    "print('Confusion matrix')\n",
    "print('-------------------------------------------------------')\n",
    "print(confusion_matrix(y_test, y_test_hat))"
   ]
  },
  {
   "cell_type": "code",
   "execution_count": 39,
   "id": "136df934",
   "metadata": {
    "execution": {
     "iopub.execute_input": "2024-09-10T14:09:49.496218Z",
     "iopub.status.busy": "2024-09-10T14:09:49.495751Z",
     "iopub.status.idle": "2024-09-10T14:09:49.587004Z",
     "shell.execute_reply": "2024-09-10T14:09:49.585445Z"
    },
    "papermill": {
     "duration": 0.121639,
     "end_time": "2024-09-10T14:09:49.591479",
     "exception": false,
     "start_time": "2024-09-10T14:09:49.469840",
     "status": "completed"
    },
    "tags": []
   },
   "outputs": [
    {
     "name": "stdout",
     "output_type": "stream",
     "text": [
      "SVC()\n",
      "Train performance\n",
      "-------------------------------------------------------\n",
      "              precision    recall  f1-score   support\n",
      "\n",
      "           0       0.61      1.00      0.76       410\n",
      "           1       0.00      0.00      0.00       258\n",
      "\n",
      "    accuracy                           0.61       668\n",
      "   macro avg       0.31      0.50      0.38       668\n",
      "weighted avg       0.38      0.61      0.47       668\n",
      "\n",
      "Test performance\n",
      "-------------------------------------------------------\n",
      "              precision    recall  f1-score   support\n",
      "\n",
      "           0       0.62      1.00      0.77       139\n",
      "           1       0.00      0.00      0.00        84\n",
      "\n",
      "    accuracy                           0.62       223\n",
      "   macro avg       0.31      0.50      0.38       223\n",
      "weighted avg       0.39      0.62      0.48       223\n",
      "\n",
      "Roc_auc score\n",
      "-------------------------------------------------------\n",
      "0.5\n",
      "\n",
      "Confusion matrix\n",
      "-------------------------------------------------------\n",
      "[[139   0]\n",
      " [ 84   0]]\n"
     ]
    },
    {
     "name": "stderr",
     "output_type": "stream",
     "text": [
      "/opt/conda/lib/python3.10/site-packages/sklearn/metrics/_classification.py:1344: UndefinedMetricWarning: Precision and F-score are ill-defined and being set to 0.0 in labels with no predicted samples. Use `zero_division` parameter to control this behavior.\n",
      "  _warn_prf(average, modifier, msg_start, len(result))\n",
      "/opt/conda/lib/python3.10/site-packages/sklearn/metrics/_classification.py:1344: UndefinedMetricWarning: Precision and F-score are ill-defined and being set to 0.0 in labels with no predicted samples. Use `zero_division` parameter to control this behavior.\n",
      "  _warn_prf(average, modifier, msg_start, len(result))\n",
      "/opt/conda/lib/python3.10/site-packages/sklearn/metrics/_classification.py:1344: UndefinedMetricWarning: Precision and F-score are ill-defined and being set to 0.0 in labels with no predicted samples. Use `zero_division` parameter to control this behavior.\n",
      "  _warn_prf(average, modifier, msg_start, len(result))\n",
      "/opt/conda/lib/python3.10/site-packages/sklearn/metrics/_classification.py:1344: UndefinedMetricWarning: Precision and F-score are ill-defined and being set to 0.0 in labels with no predicted samples. Use `zero_division` parameter to control this behavior.\n",
      "  _warn_prf(average, modifier, msg_start, len(result))\n",
      "/opt/conda/lib/python3.10/site-packages/sklearn/metrics/_classification.py:1344: UndefinedMetricWarning: Precision and F-score are ill-defined and being set to 0.0 in labels with no predicted samples. Use `zero_division` parameter to control this behavior.\n",
      "  _warn_prf(average, modifier, msg_start, len(result))\n",
      "/opt/conda/lib/python3.10/site-packages/sklearn/metrics/_classification.py:1344: UndefinedMetricWarning: Precision and F-score are ill-defined and being set to 0.0 in labels with no predicted samples. Use `zero_division` parameter to control this behavior.\n",
      "  _warn_prf(average, modifier, msg_start, len(result))\n"
     ]
    }
   ],
   "source": [
    "# Support Vector Machines\n",
    "model = SVC()\n",
    "model.fit(x_train, y_train)\n",
    "y_train_hat = model.predict(x_train)\n",
    "y_test_hat = model.predict(x_test)\n",
    "\n",
    "print(model)\n",
    "print('Train performance')\n",
    "print('-------------------------------------------------------')\n",
    "print(classification_report(y_train, y_train_hat))\n",
    "\n",
    "print('Test performance')\n",
    "print('-------------------------------------------------------')\n",
    "print(classification_report(y_test, y_test_hat))\n",
    "\n",
    "print('Roc_auc score')\n",
    "print('-------------------------------------------------------')\n",
    "print(roc_auc_score(y_test, y_test_hat))\n",
    "print('')\n",
    "\n",
    "print('Confusion matrix')\n",
    "print('-------------------------------------------------------')\n",
    "print(confusion_matrix(y_test, y_test_hat))"
   ]
  },
  {
   "cell_type": "code",
   "execution_count": 40,
   "id": "c8ca09f1",
   "metadata": {
    "execution": {
     "iopub.execute_input": "2024-09-10T14:09:49.643068Z",
     "iopub.status.busy": "2024-09-10T14:09:49.642598Z",
     "iopub.status.idle": "2024-09-10T14:09:50.232396Z",
     "shell.execute_reply": "2024-09-10T14:09:50.230966Z"
    },
    "papermill": {
     "duration": 0.618984,
     "end_time": "2024-09-10T14:09:50.235682",
     "exception": false,
     "start_time": "2024-09-10T14:09:49.616698",
     "status": "completed"
    },
    "tags": []
   },
   "outputs": [
    {
     "name": "stdout",
     "output_type": "stream",
     "text": [
      "RandomForestClassifier(n_jobs=-1, random_state=123)\n",
      "Train performance\n",
      "-------------------------------------------------------\n",
      "              precision    recall  f1-score   support\n",
      "\n",
      "           0       1.00      1.00      1.00       410\n",
      "           1       1.00      1.00      1.00       258\n",
      "\n",
      "    accuracy                           1.00       668\n",
      "   macro avg       1.00      1.00      1.00       668\n",
      "weighted avg       1.00      1.00      1.00       668\n",
      "\n",
      "Test performance\n",
      "-------------------------------------------------------\n",
      "              precision    recall  f1-score   support\n",
      "\n",
      "           0       0.84      0.90      0.87       139\n",
      "           1       0.81      0.73      0.77        84\n",
      "\n",
      "    accuracy                           0.83       223\n",
      "   macro avg       0.83      0.81      0.82       223\n",
      "weighted avg       0.83      0.83      0.83       223\n",
      "\n",
      "Roc_auc score\n",
      "-------------------------------------------------------\n",
      "0.8127355258650223\n",
      "\n",
      "Confusion matrix\n",
      "-------------------------------------------------------\n",
      "[[125  14]\n",
      " [ 23  61]]\n"
     ]
    }
   ],
   "source": [
    "# Random Forest\n",
    "model = RandomForestClassifier(n_jobs=-1,random_state=123)\n",
    "model.fit(x_train, y_train)\n",
    "y_train_hat = model.predict(x_train)\n",
    "y_test_hat = model.predict(x_test)\n",
    "\n",
    "print(model)\n",
    "print('Train performance')\n",
    "print('-------------------------------------------------------')\n",
    "print(classification_report(y_train, y_train_hat))\n",
    "\n",
    "print('Test performance')\n",
    "print('-------------------------------------------------------')\n",
    "print(classification_report(y_test, y_test_hat))\n",
    "\n",
    "print('Roc_auc score')\n",
    "print('-------------------------------------------------------')\n",
    "print(roc_auc_score(y_test, y_test_hat))\n",
    "print('')\n",
    "\n",
    "print('Confusion matrix')\n",
    "print('-------------------------------------------------------')\n",
    "print(confusion_matrix(y_test, y_test_hat))"
   ]
  },
  {
   "cell_type": "code",
   "execution_count": 41,
   "id": "5e5ed0ca",
   "metadata": {
    "execution": {
     "iopub.execute_input": "2024-09-10T14:09:50.287283Z",
     "iopub.status.busy": "2024-09-10T14:09:50.286777Z",
     "iopub.status.idle": "2024-09-10T14:09:51.065457Z",
     "shell.execute_reply": "2024-09-10T14:09:51.059759Z"
    },
    "papermill": {
     "duration": 0.81022,
     "end_time": "2024-09-10T14:09:51.070508",
     "exception": false,
     "start_time": "2024-09-10T14:09:50.260288",
     "status": "completed"
    },
    "tags": []
   },
   "outputs": [
    {
     "name": "stdout",
     "output_type": "stream",
     "text": [
      "MLPClassifier()\n",
      "Train performance\n",
      "-------------------------------------------------------\n",
      "              precision    recall  f1-score   support\n",
      "\n",
      "           0       0.82      0.85      0.84       410\n",
      "           1       0.75      0.71      0.73       258\n",
      "\n",
      "    accuracy                           0.79       668\n",
      "   macro avg       0.78      0.78      0.78       668\n",
      "weighted avg       0.79      0.79      0.79       668\n",
      "\n",
      "Test performance\n",
      "-------------------------------------------------------\n",
      "              precision    recall  f1-score   support\n",
      "\n",
      "           0       0.84      0.86      0.85       139\n",
      "           1       0.75      0.73      0.74        84\n",
      "\n",
      "    accuracy                           0.81       223\n",
      "   macro avg       0.80      0.79      0.79       223\n",
      "weighted avg       0.81      0.81      0.81       223\n",
      "\n",
      "Roc_auc score\n",
      "-------------------------------------------------------\n",
      "0.7911527920520727\n",
      "\n",
      "Confusion matrix\n",
      "-------------------------------------------------------\n",
      "[[119  20]\n",
      " [ 23  61]]\n"
     ]
    }
   ],
   "source": [
    "# Neural nets\n",
    "model = MLPClassifier()\n",
    "model.fit(x_train, y_train)\n",
    "y_train_hat = model.predict(x_train)\n",
    "y_test_hat = model.predict(x_test)\n",
    "\n",
    "print(model)\n",
    "print('Train performance')\n",
    "print('-------------------------------------------------------')\n",
    "print(classification_report(y_train, y_train_hat))\n",
    "\n",
    "print('Test performance')\n",
    "print('-------------------------------------------------------')\n",
    "print(classification_report(y_test, y_test_hat))\n",
    "\n",
    "print('Roc_auc score')\n",
    "print('-------------------------------------------------------')\n",
    "print(roc_auc_score(y_test, y_test_hat))\n",
    "print('')\n",
    "\n",
    "print('Confusion matrix')\n",
    "print('-------------------------------------------------------')\n",
    "print(confusion_matrix(y_test, y_test_hat))"
   ]
  },
  {
   "cell_type": "code",
   "execution_count": 42,
   "id": "5e6b32f2",
   "metadata": {
    "execution": {
     "iopub.execute_input": "2024-09-10T14:09:51.138988Z",
     "iopub.status.busy": "2024-09-10T14:09:51.138365Z",
     "iopub.status.idle": "2024-09-10T14:09:51.258491Z",
     "shell.execute_reply": "2024-09-10T14:09:51.257067Z"
    },
    "papermill": {
     "duration": 0.151318,
     "end_time": "2024-09-10T14:09:51.262387",
     "exception": false,
     "start_time": "2024-09-10T14:09:51.111069",
     "status": "completed"
    },
    "tags": []
   },
   "outputs": [
    {
     "name": "stdout",
     "output_type": "stream",
     "text": [
      "KNeighborsClassifier()\n",
      "Train performance\n",
      "-------------------------------------------------------\n",
      "              precision    recall  f1-score   support\n",
      "\n",
      "           0       0.73      0.87      0.79       410\n",
      "           1       0.70      0.48      0.57       258\n",
      "\n",
      "    accuracy                           0.72       668\n",
      "   macro avg       0.71      0.67      0.68       668\n",
      "weighted avg       0.72      0.72      0.71       668\n",
      "\n",
      "Test performance\n",
      "-------------------------------------------------------\n",
      "              precision    recall  f1-score   support\n",
      "\n",
      "           0       0.62      0.78      0.69       139\n",
      "           1       0.38      0.23      0.28        84\n",
      "\n",
      "    accuracy                           0.57       223\n",
      "   macro avg       0.50      0.50      0.49       223\n",
      "weighted avg       0.53      0.57      0.54       223\n",
      "\n",
      "Roc_auc score\n",
      "-------------------------------------------------------\n",
      "0.5015844467283317\n",
      "\n",
      "Confusion matrix\n",
      "-------------------------------------------------------\n",
      "[[108  31]\n",
      " [ 65  19]]\n"
     ]
    }
   ],
   "source": [
    "# K-Neighbors\n",
    "model = KNeighborsClassifier()\n",
    "model.fit(x_train, y_train)\n",
    "y_train_hat = model.predict(x_train)\n",
    "y_test_hat = model.predict(x_test)\n",
    "print(model)\n",
    "print('Train performance')\n",
    "print('-------------------------------------------------------')\n",
    "print(classification_report(y_train, y_train_hat))\n",
    "\n",
    "print('Test performance')\n",
    "print('-------------------------------------------------------')\n",
    "print(classification_report(y_test, y_test_hat))\n",
    "\n",
    "print('Roc_auc score')\n",
    "print('-------------------------------------------------------')\n",
    "print(roc_auc_score(y_test, y_test_hat))\n",
    "print('')\n",
    "\n",
    "print('Confusion matrix')\n",
    "print('-------------------------------------------------------')\n",
    "print(confusion_matrix(y_test, y_test_hat))"
   ]
  },
  {
   "cell_type": "code",
   "execution_count": 43,
   "id": "15731712",
   "metadata": {
    "execution": {
     "iopub.execute_input": "2024-09-10T14:09:51.324924Z",
     "iopub.status.busy": "2024-09-10T14:09:51.324146Z",
     "iopub.status.idle": "2024-09-10T14:09:52.603873Z",
     "shell.execute_reply": "2024-09-10T14:09:52.602518Z"
    },
    "papermill": {
     "duration": 1.311346,
     "end_time": "2024-09-10T14:09:52.606578",
     "exception": false,
     "start_time": "2024-09-10T14:09:51.295232",
     "status": "completed"
    },
    "tags": []
   },
   "outputs": [
    {
     "name": "stdout",
     "output_type": "stream",
     "text": [
      "XGBClassifier(base_score=None, booster=None, callbacks=None,\n",
      "              colsample_bylevel=None, colsample_bynode=None,\n",
      "              colsample_bytree=None, device=None, early_stopping_rounds=None,\n",
      "              enable_categorical=False, eval_metric=None, feature_types=None,\n",
      "              gamma=None, grow_policy=None, importance_type=None,\n",
      "              interaction_constraints=None, learning_rate=None, max_bin=None,\n",
      "              max_cat_threshold=None, max_cat_to_onehot=None,\n",
      "              max_delta_step=None, max_depth=None, max_leaves=None,\n",
      "              min_child_weight=None, missing=nan, monotone_constraints=None,\n",
      "              multi_strategy=None, n_estimators=None, n_jobs=None,\n",
      "              num_parallel_tree=None, random_state=123, ...)\n",
      "Train performance\n",
      "-------------------------------------------------------\n",
      "              precision    recall  f1-score   support\n",
      "\n",
      "           0       1.00      1.00      1.00       410\n",
      "           1       1.00      1.00      1.00       258\n",
      "\n",
      "    accuracy                           1.00       668\n",
      "   macro avg       1.00      1.00      1.00       668\n",
      "weighted avg       1.00      1.00      1.00       668\n",
      "\n",
      "Test performance\n",
      "-------------------------------------------------------\n",
      "              precision    recall  f1-score   support\n",
      "\n",
      "           0       0.82      0.86      0.84       139\n",
      "           1       0.74      0.69      0.72        84\n",
      "\n",
      "    accuracy                           0.79       223\n",
      "   macro avg       0.78      0.77      0.78       223\n",
      "weighted avg       0.79      0.79      0.79       223\n",
      "\n",
      "Roc_auc score\n",
      "-------------------------------------------------------\n",
      "0.7732956491949299\n",
      "\n",
      "Confusion matrix\n",
      "-------------------------------------------------------\n",
      "[[119  20]\n",
      " [ 26  58]]\n"
     ]
    }
   ],
   "source": [
    "from xgboost import XGBClassifier\n",
    "\n",
    "model = XGBClassifier(random_state=123)\n",
    "model.fit(x_train, y_train)\n",
    "y_train_hat = model.predict(x_train)\n",
    "y_test_hat = model.predict(x_test)\n",
    "\n",
    "print(model)\n",
    "print('Train performance')\n",
    "print('-------------------------------------------------------')\n",
    "print(classification_report(y_train, y_train_hat))\n",
    "\n",
    "print('Test performance')\n",
    "print('-------------------------------------------------------')\n",
    "print(classification_report(y_test, y_test_hat))\n",
    "\n",
    "print('Roc_auc score')\n",
    "print('-------------------------------------------------------')\n",
    "print(roc_auc_score(y_test, y_test_hat))\n",
    "print('')\n",
    "\n",
    "print('Confusion matrix')\n",
    "print('-------------------------------------------------------')\n",
    "print(confusion_matrix(y_test, y_test_hat))"
   ]
  },
  {
   "cell_type": "code",
   "execution_count": 44,
   "id": "6fe2a5f7",
   "metadata": {
    "execution": {
     "iopub.execute_input": "2024-09-10T14:09:52.659327Z",
     "iopub.status.busy": "2024-09-10T14:09:52.658845Z",
     "iopub.status.idle": "2024-09-10T14:09:52.944317Z",
     "shell.execute_reply": "2024-09-10T14:09:52.942820Z"
    },
    "papermill": {
     "duration": 0.315607,
     "end_time": "2024-09-10T14:09:52.947332",
     "exception": false,
     "start_time": "2024-09-10T14:09:52.631725",
     "status": "completed"
    },
    "tags": []
   },
   "outputs": [
    {
     "name": "stdout",
     "output_type": "stream",
     "text": [
      "ExtraTreesClassifier(random_state=123)\n",
      "Train performance\n",
      "-------------------------------------------------------\n",
      "              precision    recall  f1-score   support\n",
      "\n",
      "           0       1.00      1.00      1.00       410\n",
      "           1       1.00      1.00      1.00       258\n",
      "\n",
      "    accuracy                           1.00       668\n",
      "   macro avg       1.00      1.00      1.00       668\n",
      "weighted avg       1.00      1.00      1.00       668\n",
      "\n",
      "Test performance\n",
      "-------------------------------------------------------\n",
      "              precision    recall  f1-score   support\n",
      "\n",
      "           0       0.84      0.89      0.87       139\n",
      "           1       0.80      0.73      0.76        84\n",
      "\n",
      "    accuracy                           0.83       223\n",
      "   macro avg       0.82      0.81      0.81       223\n",
      "weighted avg       0.83      0.83      0.83       223\n",
      "\n",
      "Roc_auc score\n",
      "-------------------------------------------------------\n",
      "0.809138403562864\n",
      "\n",
      "Confusion matrix\n",
      "-------------------------------------------------------\n",
      "[[124  15]\n",
      " [ 23  61]]\n"
     ]
    }
   ],
   "source": [
    "# Extra Trees\n",
    "from sklearn.ensemble import ExtraTreesClassifier\n",
    "\n",
    "model = ExtraTreesClassifier(random_state=123)\n",
    "model.fit(x_train, y_train)\n",
    "y_train_hat = model.predict(x_train)\n",
    "y_test_hat = model.predict(x_test)\n",
    "\n",
    "print(model)\n",
    "print('Train performance')\n",
    "print('-------------------------------------------------------')\n",
    "print(classification_report(y_train, y_train_hat))\n",
    "\n",
    "print('Test performance')\n",
    "print('-------------------------------------------------------')\n",
    "print(classification_report(y_test, y_test_hat))\n",
    "\n",
    "print('Roc_auc score')\n",
    "print('-------------------------------------------------------')\n",
    "print(roc_auc_score(y_test, y_test_hat))\n",
    "print('')\n",
    "\n",
    "print('Confusion matrix')\n",
    "print('-------------------------------------------------------')\n",
    "print(confusion_matrix(y_test, y_test_hat))"
   ]
  },
  {
   "cell_type": "code",
   "execution_count": null,
   "id": "338a7f91",
   "metadata": {
    "papermill": {
     "duration": 0.024681,
     "end_time": "2024-09-10T14:09:52.997410",
     "exception": false,
     "start_time": "2024-09-10T14:09:52.972729",
     "status": "completed"
    },
    "tags": []
   },
   "outputs": [],
   "source": []
  }
 ],
 "metadata": {
  "kaggle": {
   "accelerator": "none",
   "dataSources": [
    {
     "databundleVersionId": 26502,
     "sourceId": 3136,
     "sourceType": "competition"
    }
   ],
   "dockerImageVersionId": 30761,
   "isGpuEnabled": false,
   "isInternetEnabled": false,
   "language": "python",
   "sourceType": "notebook"
  },
  "kernelspec": {
   "display_name": "Python 3",
   "language": "python",
   "name": "python3"
  },
  "language_info": {
   "codemirror_mode": {
    "name": "ipython",
    "version": 3
   },
   "file_extension": ".py",
   "mimetype": "text/x-python",
   "name": "python",
   "nbconvert_exporter": "python",
   "pygments_lexer": "ipython3",
   "version": "3.10.14"
  },
  "papermill": {
   "default_parameters": {},
   "duration": 23.881855,
   "end_time": "2024-09-10T14:09:53.848050",
   "environment_variables": {},
   "exception": null,
   "input_path": "__notebook__.ipynb",
   "output_path": "__notebook__.ipynb",
   "parameters": {},
   "start_time": "2024-09-10T14:09:29.966195",
   "version": "2.6.0"
  }
 },
 "nbformat": 4,
 "nbformat_minor": 5
}
